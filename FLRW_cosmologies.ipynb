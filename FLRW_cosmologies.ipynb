{
 "cells": [
  {
   "cell_type": "markdown",
   "metadata": {},
   "source": [
    "# Instructions\n",
    "\n",
    "Read carefully all the content in the cells, including the comments in the code cells\n",
    "\n",
    "Some lines of code have been removed. You are asked to fill in the gaps.\n",
    "\n",
    "Only modify lines that are between the following promts:\n",
    "\n",
    "'# START YOUR CODE HERE >>>>>>>>>>>>>>>>>>>>>>>>>>>>>>>>>>\n",
    "\n",
    "'# >>>>>>>>>>>>>>>>>>>>>>>>>>>>>>>>>>>> END YOUR CODE HERE\n",
    "\n",
    "After each cell there will be a test cell that will allow you to be confident you will be able to continue with the execution of the notebook.\n",
    "\n",
    "Here's an example"
   ]
  },
  {
   "cell_type": "code",
   "execution_count": null,
   "metadata": {
    "ExecuteTime": {
     "end_time": "2021-02-16T00:14:46.985072Z",
     "start_time": "2021-02-16T00:14:46.979863Z"
    }
   },
   "outputs": [],
   "source": [
    "# This is just a test to illustrate how we will do exercises with jupyter notebooks\n",
    "\n",
    "# This function adds two numbers and prints the result\n",
    "# Please fill in the gaps\n",
    "\n",
    "def print_sum(a,b):\n",
    "    \n",
    "    # START YOUR CODE HERE (1 line of code)>>>>>>>>>>>>>>>>>>\n",
    "    c = \n",
    "    # >>>>>>>>>>>>>>>>>>>>>>>>>>>>>>>>>>>> END YOUR CODE HERE\n",
    "    \n",
    "    print(c)\n",
    "    \n",
    "    return"
   ]
  },
  {
   "cell_type": "code",
   "execution_count": null,
   "metadata": {
    "ExecuteTime": {
     "end_time": "2021-02-16T00:14:52.057001Z",
     "start_time": "2021-02-16T00:14:51.979371Z"
    }
   },
   "outputs": [],
   "source": [
    "# Run this cell to check that the above implementation is correct\n",
    "print_sum(1,2)"
   ]
  },
  {
   "cell_type": "markdown",
   "metadata": {},
   "source": [
    "**Expected Output**: \n",
    "<table style = \"width:40%\">\n",
    "    <tr>\n",
    "    <td>** print_sum(1,2) **</td> \n",
    "        <td>3 </td> \n",
    "    </tr>\n",
    "\n",
    "</table>"
   ]
  },
  {
   "cell_type": "markdown",
   "metadata": {},
   "source": [
    "# Object-oriented programming\n",
    "\n",
    "Object-oriented programming (OOP) is a programming paradigm in which programs are built around objects, not functions. Each object can have properties, and methods that can be applied to that object. It is a paradigm that can be useful in many instances, since it allows to put together data and methods applied to this data. It also allows for a compact syntax. \n",
    "\n",
    "In Python, this paradigm is implemented through classes. We will build our own class to handle cosmological models.\n",
    "\n",
    "But first, let's learn briefly about the Python syntax for a class, and how to use it."
   ]
  },
  {
   "cell_type": "code",
   "execution_count": null,
   "metadata": {
    "ExecuteTime": {
     "end_time": "2021-02-16T00:14:56.366617Z",
     "start_time": "2021-02-16T00:14:56.361418Z"
    }
   },
   "outputs": [],
   "source": [
    "# A class should describe a type of objects, and those objects will typically\n",
    "# be define by a set of attributes\n",
    "\n",
    "class Person:\n",
    "    name = 'Clara'\n",
    "    \n",
    "# And once defined, we can create objects by calling the class\n",
    "laura = Person()\n",
    "\n",
    "# We can check that we have created a person\n",
    "print(type(laura))"
   ]
  },
  {
   "cell_type": "code",
   "execution_count": null,
   "metadata": {
    "ExecuteTime": {
     "end_time": "2021-02-16T00:14:56.579208Z",
     "start_time": "2021-02-16T00:14:56.572965Z"
    }
   },
   "outputs": [],
   "source": [
    "# To access the attributes we do\n",
    "print(\"Name = {}\".format(laura.name))"
   ]
  },
  {
   "cell_type": "code",
   "execution_count": null,
   "metadata": {
    "ExecuteTime": {
     "end_time": "2021-02-16T00:14:57.892090Z",
     "start_time": "2021-02-16T00:14:57.882890Z"
    }
   },
   "outputs": [],
   "source": [
    "# Of course, if we try to access an attribute that is not defined\n",
    "# we should get an error message\n",
    "print(laura.age)"
   ]
  },
  {
   "cell_type": "code",
   "execution_count": null,
   "metadata": {
    "ExecuteTime": {
     "end_time": "2021-02-16T00:14:58.625305Z",
     "start_time": "2021-02-16T00:14:58.619609Z"
    }
   },
   "outputs": [],
   "source": [
    "# We can create a new person\n",
    "john = Person()\n",
    "print(\"New name = {}\".format(john.name))"
   ]
  },
  {
   "cell_type": "code",
   "execution_count": null,
   "metadata": {
    "ExecuteTime": {
     "end_time": "2021-02-16T00:14:59.793133Z",
     "start_time": "2021-02-16T00:14:59.786647Z"
    }
   },
   "outputs": [],
   "source": [
    "# It would be nice to be able to define the values of the attributes when creating\n",
    "# an object. This is done with a special method (function) defined inside the class\n",
    "# called a constructor:\n",
    "\n",
    "class Person:\n",
    "    def __init__(self, name):\n",
    "        self.name = name\n",
    "        \n",
    "# 'self' refers to the object itself, and needs to be passed as an argument\n",
    "# Now we can create people by invoking the constructor\n",
    "laura = Person(name='Laura')\n",
    "john  = Person(name='John')\n",
    "print(\"Laura's name is {}\".format(laura.name))\n",
    "print(\"John's name is {}\".format(john.name))"
   ]
  },
  {
   "cell_type": "code",
   "execution_count": null,
   "metadata": {
    "ExecuteTime": {
     "end_time": "2021-02-16T00:15:00.168258Z",
     "start_time": "2021-02-16T00:15:00.164046Z"
    }
   },
   "outputs": [],
   "source": [
    "# It is possible to give default values to some of the parameters in the constructors\n",
    "\n",
    "class Person:\n",
    "    def __init__(self, name, alive=True):\n",
    "        self.name  = name\n",
    "        self.alive = alive\n",
    "        \n",
    "laura = Person(name='Laura')\n",
    "print(\"Laura's name is {}\".format(laura.name))\n",
    "print(\"Is Laura alive? : {}\".format(laura.alive))"
   ]
  },
  {
   "cell_type": "code",
   "execution_count": null,
   "metadata": {
    "ExecuteTime": {
     "end_time": "2021-02-16T00:15:00.593073Z",
     "start_time": "2021-02-16T00:15:00.584808Z"
    }
   },
   "outputs": [],
   "source": [
    "# It is possible to update the parameters of an object once created\n",
    "# (warning, this is probably a bad/sad example)\n",
    "laura = Person(name='Laura')\n",
    "\n",
    "print(\"Laura's name is {}\".format(laura.name))\n",
    "print(\"Is Laura alive? : {}\".format(laura.alive))\n",
    "\n",
    "laura.alive = False\n",
    "\n",
    "print(\"Is Laura alive? : {}\".format(laura.alive))"
   ]
  },
  {
   "cell_type": "code",
   "execution_count": null,
   "metadata": {
    "ExecuteTime": {
     "end_time": "2021-02-16T00:15:01.379370Z",
     "start_time": "2021-02-16T00:15:01.366583Z"
    }
   },
   "outputs": [],
   "source": [
    "# There are ways to protect attributes from being accessed to (and changed)\n",
    "# directly, but we do not need to worry about that\n",
    "\n",
    "# We can also add functions that use the class attributes and new outputs\n",
    "# For instance, imagine you are a bank\n",
    "\n",
    "class Person:\n",
    "    def __init__(self, name, balance=0):\n",
    "        self.name    = name\n",
    "        self.balance = balance\n",
    "        \n",
    "    def update_balance(self, amount):\n",
    "        self.balance = self.balance + amount\n",
    "        \n",
    "    def is_in_debt(self):\n",
    "        if self.balance < 0 :\n",
    "            return True\n",
    "        else:\n",
    "            return False\n",
    "        \n",
    "# Let's create an objet with an initial account balance\n",
    "laura = Person(name='Laura', balance = 234)\n",
    "\n",
    "# Let's check that account balance, and whether it is in debt\n",
    "print(\"{} current balance : {}\".format(laura.name, laura.balance))\n",
    "print(\"Is {} in debt? : {}\".format(laura.name, laura.is_in_debt()))\n",
    "print()\n",
    "\n",
    "# We can update the balance\n",
    "laura.update_balance(-567)\n",
    "\n",
    "# And check again if it is in balance\n",
    "print(\"Is {} in debt? : {}\".format(laura.name, laura.is_in_debt()))\n",
    "print(\"{} current balance : {}\".format(laura.name, laura.balance))"
   ]
  },
  {
   "cell_type": "markdown",
   "metadata": {},
   "source": [
    "# Cosmological model with multiple components\n",
    "\n",
    "Now that we understand how classes work, we are going to create a class to hangle cosmologies that are described by the FLRW equation.\n",
    "\n",
    "As we have seen in class, we are going to take into consideration cosmologies with four possible components:\n",
    "\n",
    "1. Non-relativistic matter: determined by the current energy density in units of the critical density, $\\Omega_{m,0}$\n",
    "\n",
    "2. Radiation: determined by the current energy density in units of the critical density, $\\Omega_{r,0}$\n",
    "\n",
    "3. Cosmological constant: determined by the current energy density in units of the critical density, $\\Omega_{\\Lambda,0}$\n",
    "\n",
    "4. Curvature: determined by the current energy density in units of the critical density, $\\Omega_{\\kappa,0}$\n",
    "\n",
    "We also want to be able to define the current value of the Hubble constant, since we will use that value to normalize all the equations that will allow us to compute the time evolution of the universes described by this model.\n",
    "\n",
    "Since each component's energy density scale differently with the scale factor, the first thing we want to implement is that scaling, so that we can compute the energy density from a given component at any given time.\n",
    "\n",
    "$$\\Omega_m = \\frac{\\Omega_{m,0}}{a^3}$$\n",
    "$$\\Omega_r = \\frac{\\Omega_{r,0}}{a^4}$$\n",
    "$$\\Omega_l = \\Omega_{l,0}$$\n",
    "$$\\Omega_{\\kappa} = \\frac{\\Omega_{\\kappa,0}}{a^2}$$\n",
    "\n",
    "Also, energy densities are additive, so we can get the total energy density\n",
    "\n",
    "$$\\Omega = \\Omega_m + \\Omega_r + \\Omega_l + \\Omega_{\\kappa}$$"
   ]
  },
  {
   "cell_type": "code",
   "execution_count": null,
   "metadata": {
    "ExecuteTime": {
     "end_time": "2021-02-16T00:15:29.302982Z",
     "start_time": "2021-02-16T00:15:29.289821Z"
    }
   },
   "outputs": [],
   "source": [
    "import astropy.units as u           # we will use this library to handle units\n",
    "from astropy.constants import c     # speeed of light\n",
    "from scipy.integrate import quad    # only needed if we use quad function for integral\n",
    "import numpy as np\n",
    "\n",
    "class FLRWcosmo:\n",
    "    '''Class for cosmological model representing a uniform and isotropic universe described by GR'''\n",
    "    \n",
    "    def __init__(self, Om_0, Or_0, Ol_0, H_0=72*u.km/u.s/u.Mpc):\n",
    "        # Since the uncertainty on the Hubble constant is not too big, we can \n",
    "        # add a default value for it\n",
    "        # Feel free to modify the class and add default values for your favourite model\n",
    "        self.Om_0 = Om_0\n",
    "        self.Or_0 = Or_0\n",
    "        self.Ol_0 = Ol_0\n",
    "        self.Ok_0 = 1 - self.Om_0 - self.Or_0 - self.Ol_0\n",
    "        self.H_0  = H_0\n",
    "        \n",
    "        # Derived parameters that will be used to normalize distances\n",
    "#        from astropy.constants import c\n",
    "        self.t_H = (1 / self.H_0).to(u.Gyr).value     # Hubble time in Gyr\n",
    "        self.D_H = (c / self.H_0).to(u.Mpc).value   # Hubble radius in Mpc\n",
    "        \n",
    "    # Scaling of enery densities per component at scale factor a\n",
    "    def Om(self, a):\n",
    "        '''Non-relativistic matter energy density in units of critical density at a=1'''       \n",
    "        omega_m = self.Om_0 / a**3 \n",
    "        return omega_m\n",
    "    \n",
    "    def Or(self, a):\n",
    "        '''Radiation energy density in units of critical density at a=1'''\n",
    "        # START YOUR CODE HERE (1 line of code)>>>>>>>>>>>>>>>>>>\n",
    "        omega_r = \n",
    "        # >>>>>>>>>>>>>>>>>>>>>>>>>>>>>>>>>>>> END YOUR CODE HERE\n",
    "        return omega_r\n",
    "    \n",
    "    def Ol(self, a):\n",
    "        '''Cosmological constant energy density in unist of critical density at a=1'''\n",
    "        # START YOUR CODE HERE (1 line of code)>>>>>>>>>>>>>>>>>>\n",
    "        omega_l = \n",
    "        # >>>>>>>>>>>>>>>>>>>>>>>>>>>>>>>>>>>> END YOUR CODE HERE\n",
    "        return omega_l\n",
    "    \n",
    "    def Ok(self, a):\n",
    "        '''Curvature energy density in units of critical density at a=1'''\n",
    "        # START YOUR CODE HERE (1 line of code)>>>>>>>>>>>>>>>>>>\n",
    "        omega_k = \n",
    "        # >>>>>>>>>>>>>>>>>>>>>>>>>>>>>>>>>>>> END YOUR CODE HERE\n",
    "        return omega_k\n",
    "    \n",
    "    def Omega(self, a):\n",
    "        '''Total energy density in units of critical density at a=1'''\n",
    "        # START YOUR CODE HERE (1 line of code)>>>>>>>>>>>>>>>>>>\n",
    "        omega = \n",
    "        # >>>>>>>>>>>>>>>>>>>>>>>>>>>>>>>>>>>> END YOUR CODE HERE\n",
    "        return omega\n",
    "    \n",
    "    def E(self, a):\n",
    "        '''Square root of energy density, enters Friedmann's equation'''\n",
    "        \n",
    "        E = self.Omega(a)**0.5\n",
    "        \n",
    "        return E"
   ]
  },
  {
   "cell_type": "code",
   "execution_count": null,
   "metadata": {
    "ExecuteTime": {
     "end_time": "2021-02-16T00:15:30.239078Z",
     "start_time": "2021-02-16T00:15:30.229359Z"
    }
   },
   "outputs": [],
   "source": [
    "# Let's test the class\n",
    "cosmo = FLRWcosmo(Om_0=0.3, Or_0=0, Ol_0=0.7)\n",
    "print(cosmo.Omega(0.5))"
   ]
  },
  {
   "cell_type": "markdown",
   "metadata": {},
   "source": [
    "**Expected Output**: \n",
    "<table style = \"width:40%\">\n",
    "    <tr>\n",
    "    <td>**print(cosmo.Omega(0.5)) **</td> \n",
    "        <td>3.0999999999999996</td> \n",
    "    </tr>\n",
    "\n",
    "</table>"
   ]
  },
  {
   "cell_type": "code",
   "execution_count": null,
   "metadata": {
    "ExecuteTime": {
     "end_time": "2021-02-16T00:16:07.232764Z",
     "start_time": "2021-02-16T00:16:07.216748Z"
    }
   },
   "outputs": [],
   "source": [
    "# Let's use this cosmology class to figure out how different components \n",
    "# contribute to the overall energy budget\n",
    "\n",
    "# First, let's initialize a cosmology\n",
    "cosmo = FLRWcosmo(Om_0=0.29, Or_0=0.01, Ol_0=0.60, Ok_0=0.10)\n",
    "\n",
    "# Second, let's define a series of scale factors to do the calculations\n",
    "import numpy as np   # library to handle arrays\n",
    "a_s = np.logspace(-3, 0, 100)   # 100 scale factors from 0.001 to 1, spaced logaritmically\n",
    "\n",
    "# Third, compute the energy densities at those scale factors\n",
    "# instead of for loops, we use here Python list comprehension, which is more compact\n",
    "# and we convert the resulting Python lists to arrays\n",
    "om_m = np.array([cosmo.Om(a) for a in a_s])\n",
    "\n",
    "# START YOUR CODE HERE (3 lines of code)>>>>>>>>>>>>>>>>>>\n",
    "om_r = \n",
    "om_l =\n",
    "om_k =\n",
    "# >>>>>>>>>>>>>>>>>>>>>>>>>>>>>>>>>>>> END YOUR CODE HERE\n",
    "\n",
    "omega = om_m + om_r + om_l + om_k\n",
    "\n",
    "# Fourth, normalize them so that we are just looking at their relative weights\n",
    "om_m_r = om_m / omega\n",
    "\n",
    "# START YOUR CODE HERE (3 lines of code)>>>>>>>>>>>>>>>>>>\n",
    "om_r_r = \n",
    "om_l_r =\n",
    "om_k_r =\n",
    "# >>>>>>>>>>>>>>>>>>>>>>>>>>>>>>>>>>>> END YOUR CODE HERE\n",
    "\n",
    "# Finally, we make a plot to show how the balance in the energy budget changes with the scale factor\n",
    "import matplotlib\n",
    "import matplotlib.pyplot as plt\n",
    "%matplotlib inline\n",
    "\n",
    "matplotlib.rcParams.update({'font.size': 18})\n",
    "fig = plt.figure(figsize=(15,10))\n",
    "ax = fig.add_subplot(1,1,1)\n",
    "labels = [r\"Matter\", r\"Radiation\", r\"$\\Lambda$\", r\"Curvature\"]\n",
    "ax.stackplot(a_s, om_m_r, om_r_r, om_l_r, om_k_r, labels=labels, alpha=0.75)\n",
    "ax.set_xscale('log')\n",
    "ax.set_xlabel(r\"Scale factor\"), ax.set_ylabel(r\"Relative contribution to energy budget\")\n",
    "ax.legend(loc=2)"
   ]
  },
  {
   "cell_type": "markdown",
   "metadata": {},
   "source": [
    "## Friedmann's equation\n",
    "\n",
    "The other aspect we would like to implement in our cosmology class is how the scale factor evolves with time, that is, the dynamic evolution of these universes: $a(t)$\n",
    "\n",
    "\n",
    "As we saw in the lecture, computing the inverse relationship, $t(a)$ is straightforward through integration:\n",
    "\n",
    "$$\\chi(a) = \\int_0^a \\frac{da}{a\\sqrt{\\Omega(a)}}$$\n",
    "\n",
    "with\n",
    "\n",
    "$$\\chi = H_0 t$$\n",
    "\n",
    "Let's add an \"age\" function to our class that essentially does the above integral.\n",
    "\n",
    "Feel free to do the integral the way you prefer. I would recommend to use the 'quad' function in the scipy.integrate library:\n",
    "\n",
    "https://docs.scipy.org/doc/scipy/reference/integrate.html"
   ]
  },
  {
   "cell_type": "code",
   "execution_count": null,
   "metadata": {
    "ExecuteTime": {
     "end_time": "2021-02-16T00:16:47.201458Z",
     "start_time": "2021-02-16T00:16:47.190588Z"
    }
   },
   "outputs": [],
   "source": [
    "import astropy.units as u           # we will use this library to handle units\n",
    "from astropy.constants import c     # speeed of light\n",
    "from scipy.integrate import quad    # only needed if we use quad function for integral\n",
    "import numpy as np\n",
    "\n",
    "class FLRWcosmo:\n",
    "    '''Class for cosmological model representing a uniform and isotropic universe described by GR'''\n",
    "    \n",
    "    def __init__(self, Om_0, Or_0, Ol_0, H_0=72*u.km/u.s/u.Mpc):\n",
    "        # Since the uncertainty on the Hubble constant is not too big, we can \n",
    "        # add a default value for it\n",
    "        # Feel free to modify the class and add default values for your favourite model\n",
    "        self.Om_0 = Om_0\n",
    "        self.Or_0 = Or_0\n",
    "        self.Ol_0 = Ol_0\n",
    "        self.Ok_0 = 1 - self.Om_0 - self.Or_0 - self.Ol_0\n",
    "        self.H_0  = H_0\n",
    "        \n",
    "        # Derived parameters that will be used to normalize distances\n",
    "#        from astropy.constants import c\n",
    "        self.t_H = (1 / self.H_0).to(u.Gyr).value     # Hubble time in Gyr\n",
    "        self.D_H = (c / self.H_0).to(u.Mpc).value   # Hubble radius in Mpc\n",
    "        \n",
    "    # Scaling of enery densities per component at scale factor a\n",
    "    def Om(self, a):\n",
    "        '''Non-relativistic matter energy density in units of critical density at a=1'''       \n",
    "        omega_m = self.Om_0 / a**3 \n",
    "        return omega_m\n",
    "    \n",
    "    def Or(self, a):\n",
    "        '''Radiation energy density in units of critical density at a=1'''\n",
    "        # START YOUR CODE HERE (1 line of code)>>>>>>>>>>>>>>>>>>\n",
    "        omega_r = self.Or_0 / a**4\n",
    "        # >>>>>>>>>>>>>>>>>>>>>>>>>>>>>>>>>>>> END YOUR CODE HERE\n",
    "        return omega_r\n",
    "    \n",
    "    def Ol(self, a):\n",
    "        '''Cosmological constant energy density in unist of critical density at a=1'''\n",
    "        # START YOUR CODE HERE (1 line of code)>>>>>>>>>>>>>>>>>>\n",
    "        omega_l = self.Ol_0 \n",
    "        # >>>>>>>>>>>>>>>>>>>>>>>>>>>>>>>>>>>> END YOUR CODE HERE\n",
    "        return omega_l\n",
    "    \n",
    "    def Ok(self, a):\n",
    "        '''Curvature energy density in units of critical density at a=1'''\n",
    "        # START YOUR CODE HERE (1 line of code)>>>>>>>>>>>>>>>>>>\n",
    "        omega_k = self.Ok_0 / a**2\n",
    "        # >>>>>>>>>>>>>>>>>>>>>>>>>>>>>>>>>>>> END YOUR CODE HERE\n",
    "        return omega_k\n",
    "    \n",
    "    def Omega(self, a):\n",
    "        '''Total energy density in units of critical density at a=1'''\n",
    "        # START YOUR CODE HERE (1 line of code)>>>>>>>>>>>>>>>>>>\n",
    "        omega = self.Om(a) + self.Or(a) + self.Ol(a) + self.Ok(a)\n",
    "        # >>>>>>>>>>>>>>>>>>>>>>>>>>>>>>>>>>>> END YOUR CODE HERE\n",
    "        return omega\n",
    "    \n",
    "    def E(self, a):\n",
    "        '''Square root of energy density, enters Friedmann's equation'''\n",
    "        \n",
    "        E = self.Omega(a)**0.5\n",
    "        \n",
    "        return E\n",
    "    \n",
    "    # Ages\n",
    "    def age(self, a):\n",
    "        '''Age of the universe, in Gyr by integrating the Friedman's equation'''\n",
    "        \n",
    "        # implement the integral for chi\n",
    "        def integrand(x):\n",
    "            '''Computes the integrand, for chi given scale factor x'''\n",
    "            # START YOUR CODE HERE (1 line of code)>>>>>>>>>>>>>>>>>>\n",
    "            integ = \n",
    "            # >>>>>>>>>>>>>>>>>>>>>>>>>>>>>>>>>>>> END YOUR CODE HERE\n",
    "            \n",
    "            return integ\n",
    "        \n",
    "        # perform the integral\n",
    "        # START YOUR CODE HERE (1 line of code)>>>>>>>>>>>>>>>>>>\n",
    "        chi = \n",
    "        # >>>>>>>>>>>>>>>>>>>>>>>>>>>>>>>>>>>> END YOUR CODE HERE\n",
    "        \n",
    "        # scale with Hubble time, bringing back units in Gyr\n",
    "        \n",
    "        age = self.t_H * chi\n",
    "        \n",
    "        return age"
   ]
  },
  {
   "cell_type": "code",
   "execution_count": null,
   "metadata": {
    "ExecuteTime": {
     "end_time": "2021-02-16T00:16:47.818654Z",
     "start_time": "2021-02-16T00:16:47.808556Z"
    }
   },
   "outputs": [],
   "source": [
    "# First, let's test the age function\n",
    "cosmo = FLRWcosmo(Om_0=0.3, Or_0=0, Ol_0=0.7)\n",
    "print(cosmo.age(1))"
   ]
  },
  {
   "cell_type": "markdown",
   "metadata": {},
   "source": [
    "**Expected Output**: \n",
    "<table style = \"width:40%\">\n",
    "    <tr>\n",
    "    <td>**print(cosmo.age(1)) **</td> \n",
    "        <td>13.092901059540912</td> \n",
    "    </tr>\n",
    "\n",
    "</table>"
   ]
  },
  {
   "cell_type": "code",
   "execution_count": null,
   "metadata": {
    "ExecuteTime": {
     "end_time": "2021-02-16T00:16:53.541920Z",
     "start_time": "2021-02-16T00:16:52.961652Z"
    }
   },
   "outputs": [],
   "source": [
    "# Now, let' create an interactive plot similar to the one we may have seen in the lecture\n",
    "# That is, a plot that shows the scale factor as a function of time, compared with a cosmology\n",
    "# of reference, which we will take as one with parameters that resemble the best fit values\n",
    "# we have from current datasets\n",
    "\n",
    "from ipywidgets import interactive   # library to use interactive plot\n",
    "\n",
    "# let's fix the Hubble constant\n",
    "import astropy.units as u\n",
    "H_0 = 72 * u.km / u.s / u.Mpc\n",
    "\n",
    "# let's fix the scale factors to display\n",
    "a_s = np.linspace(1e-3, 1, 100)\n",
    "\n",
    "# create a function to plot a single comology\n",
    "def f(om_0, or_0, ol_0):\n",
    "    # initialize a cosmology, and reference\n",
    "    cosmo      = FLRWcosmo(Om_0=om_0,  Or_0=or_0, Ol_0=ol_0, H_0=H_0)\n",
    "    cosmo_lcdm = FLRWcosmo(Om_0=0.3089,Or_0=6e-5, Ol_0=1-0.3089-6e-5,    H_0=H_0)\n",
    "    # integrate Friedmann's equation\n",
    "    t_s      = np.array([cosmo.age(a)      for a in a_s])\n",
    "    t_s_lcdm = np.array([cosmo_lcdm.age(a) for a in a_s])\n",
    "    # create the plot\n",
    "    matplotlib.rcParams.update({'font.size': 18})\n",
    "    fig = plt.figure(figsize=(15,10))\n",
    "    ax  = fig.add_subplot(1,1,1)\n",
    "    ax.plot(t_s_lcdm, a_s, 'k-',  label=r'$\\Lambda$CDM')\n",
    "    ax.plot(t_s,      a_s, 'b-',  label=r'Cosmology')\n",
    "\n",
    "    ax.legend(loc=4)\n",
    "    ax.set_xlabel(r\"Time [Gyr]\"), ax.set_ylabel(r\"Scale factor\")\n",
    "    ax.grid()\n",
    "    plt.tight_layout()\n",
    "    plt.show()\n",
    "    \n",
    "# Output interactive plot\n",
    "interactive_plot = interactive(f, om_0=(0.1, 1.0, 0.1), or_0=(1e-6, 1e-4, 1e-6), ol_0=(0,1,0.1))\n",
    "output           = interactive_plot.children[-1]\n",
    "interactive_plot"
   ]
  },
  {
   "cell_type": "code",
   "execution_count": null,
   "metadata": {},
   "outputs": [],
   "source": []
  }
 ],
 "metadata": {
  "kernelspec": {
   "display_name": "Python 3",
   "language": "python",
   "name": "python3"
  },
  "language_info": {
   "codemirror_mode": {
    "name": "ipython",
    "version": 3
   },
   "file_extension": ".py",
   "mimetype": "text/x-python",
   "name": "python",
   "nbconvert_exporter": "python",
   "pygments_lexer": "ipython3",
   "version": "3.8.3"
  }
 },
 "nbformat": 4,
 "nbformat_minor": 4
}
