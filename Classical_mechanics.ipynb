{
 "cells": [
  {
   "cell_type": "markdown",
   "metadata": {},
   "source": [
    "# Instructions\n",
    "\n",
    "Read carefully all the content in the cells, including the comments in the code cells\n",
    "\n",
    "Some lines of code have been removed. You are asked to fill in the gaps.\n",
    "\n",
    "Only modify lines that are between the following promts:\n",
    "\n",
    "'# START YOUR CODE HERE >>>>>>>>>>>>>>>>>>>>>>>>>>>>>>>>>>\n",
    "\n",
    "'# >>>>>>>>>>>>>>>>>>>>>>>>>>>>>>>>>>>> END YOUR CODE HERE\n",
    "\n",
    "After each cell there will be a test cell that will allow you to be confident you will be able to continue with the execution of the notebook.\n",
    "\n",
    "Here's an example"
   ]
  },
  {
   "cell_type": "code",
   "execution_count": null,
   "metadata": {
    "ExecuteTime": {
     "end_time": "2021-01-31T23:24:38.208088Z",
     "start_time": "2021-01-31T23:24:38.203162Z"
    }
   },
   "outputs": [],
   "source": [
    "# This is just a test to illustrate how we will do exercises with jupyter notebooks\n",
    "\n",
    "# This function adds two numbers and prints the result\n",
    "# Please fill in the gaps\n",
    "\n",
    "def print_sum(a, b):\n",
    "\n",
    "    # START YOUR CODE HERE (1 line of code)>>>>>>>>>>>>>>>>>>\n",
    "    c =\n",
    "    # >>>>>>>>>>>>>>>>>>>>>>>>>>>>>>>>>>>> END YOUR CODE HERE\n",
    "\n",
    "    print(c)\n",
    "\n",
    "    return"
   ]
  },
  {
   "cell_type": "code",
   "execution_count": null,
   "metadata": {
    "ExecuteTime": {
     "end_time": "2021-01-31T23:24:39.125217Z",
     "start_time": "2021-01-31T23:24:39.042314Z"
    }
   },
   "outputs": [],
   "source": [
    "# Run this cell to check that the above implementation is correct\n",
    "print_sum(1, 2)"
   ]
  },
  {
   "cell_type": "markdown",
   "metadata": {},
   "source": [
    "**Expected Output**: \n",
    "<table style = \"width:40%\">\n",
    "    <tr>\n",
    "    <td>** print_sum(1,2) **</td> \n",
    "        <td>3 </td> \n",
    "    </tr>\n",
    "\n",
    "</table>"
   ]
  },
  {
   "cell_type": "markdown",
   "metadata": {},
   "source": [
    "# Newton's laws of motions\n",
    "\n",
    "In this notebook, we are going to keep practicing how to code in Python, and use notebooks as a coding / development environment, to solve simple problems using Newton's laws of motion.\n",
    "\n",
    "In particular, we are going to see how to solve a problem you may have already encountered in school: figuring out which angle to throw a ball at to maximize the distance it reaches when falling on the ground.\n",
    "\n",
    "These are the simplifying hypothesis we will use:\n",
    "\n",
    "1. The ball's dimensions and geometry are not relevant for the problem (it is very small compared to the distance travelled): we will consider it to be a point particle with mass $m$.\n",
    "\n",
    "2. The Earth is flat (we are not launching a rocket with a range comparable to its radius). We will also consider that the force of gravity is constant, with its acceleration equal to $g=9.81\\,\\rm m \\, s^{-2}$.\n",
    "\n",
    "3. There is no atmosphere, so we will not consider the effect of air resistance.\n",
    "\n",
    "4. The ball is initially launched with a velocity $v_0$ at an angle $\\theta$ from the horizontal.\n",
    "\n",
    "Under these assumptions, the motion of the ball is determined by Newton's second law of motion:\n",
    "\n",
    "$$\\mathbf{F} = m \\mathbf{a}$$\n",
    "\n",
    "Let's set up a coordinate system, with the $x$ axis parallel to the ground and pointing towards the initial velocity of the ball, and the $y$ axis perpendicular to the ground pointing upwards. The $z$ axis is set so that $\\{x,y,z\\}$ is a right-handed coordinate system. The components of the equations of motion are then:\n",
    "\n",
    "$$a_x = 0 \\\\ a_y = -g \\\\ a_z = 0$$\n",
    "\n",
    "If we solve these equations, we can find the ball's coordinates as a function of time:\n",
    "\n",
    "$$\\{x(t), y(t), z(t)\\}$$\n",
    "\n",
    "From which we can compute the distance traveled by the time the ball hits the ground. \n",
    "\n",
    "We will follow two approaches:\n",
    "\n",
    "  a. This system of equations has an analytic solution. We will compute it and use it to solve the problem.\n",
    "  b. We will solve it numerically, following an approach that can be used for more general problems, for which there is no analytic solution."
   ]
  },
  {
   "cell_type": "markdown",
   "metadata": {},
   "source": [
    "## a. Analytic solution\n",
    "\n",
    "Let's use the definition of acceleration and velocity to integrate the equations of motion. First, integrating the acceleration we get the velocity (since the acceleration is the derivative of the velocity):\n",
    "\n",
    "$$a_x \\equiv \\frac{d v_x}{d t} = 0 \\\\ a_y \\equiv \\frac{d v_y}{d t} = -g \\\\ a_z \\equiv \\frac{d v_z}{d t} = 0 $$\n",
    "\n",
    "The derivative of a straight line is its slope:\n",
    "\n",
    "$$\\frac{d}{d x} \\left(a x + b \\right) = a$$\n",
    "\n",
    "Then:\n",
    "\n",
    "$$ v_x = v_{x0} \\\\ v_y = -g t + v_{y0} \\\\ v_z = v_{z0} $$\n",
    "\n",
    "Since there is no force along the $y$ and $z$ axes (due to our choice of reference frame), there is no acceleration, and the velocity of the ball does not change (it keeps the same value it was launched with). A constant force (in this case, along the $y$ axis) induces a linear change in te velocity.\n",
    "\n",
    "Now, we can integrate again to find the position:\n",
    "\n",
    "$$ v_x \\equiv \\frac{d x}{d t} \\rightarrow x = v_{x0} t + x_0 \\\\\n",
    "   v_y \\equiv \\frac{d y}{d t} \\rightarrow y = -\\frac{g}{2} t^2 + v_{y0} t + y_0 \\\\\n",
    "   v_z \\equiv \\frac{d z}{d t} \\rightarrow z = v_{z0} t + z_0$$\n",
    "\n",
    "Constant velocities induce linear changes in positions. Linear velocities induce quadratic changes in positions. \n",
    "\n",
    "The initial velocity of the ball is:\n",
    "\n",
    "$$v_{x0} = v_0 \\cos \\theta \\\\ v_{y0} = v_0 \\sin \\theta \\\\ v_{z0} = 0$$\n",
    "\n",
    "The initial position of the ball is:\n",
    "\n",
    "$$ \\{x_0, y_0, z_0\\} = \\{0,0,0\\}$$\n",
    "\n",
    "Substituting, the equations of motion are:\n",
    "\n",
    "$$x = v_0 \\cos (\\theta) t \\\\ y = -\\frac{g}{2}t^2 + v_0 \\sin (\\theta) t \\\\ z = 0$$\n",
    "\n",
    "We can compute the position of the ball with time, and plot it using Python.\n",
    "\n"
   ]
  },
  {
   "cell_type": "code",
   "execution_count": null,
   "metadata": {
    "ExecuteTime": {
     "end_time": "2021-01-31T23:24:42.247054Z",
     "start_time": "2021-01-31T23:24:41.142052Z"
    }
   },
   "outputs": [],
   "source": [
    "import numpy as np                # use arrays\n",
    "import matplotlib.pyplot as plt   # plot\n",
    "%matplotlib inline\n",
    "\n",
    "# Set up the initial conditions, we will assume all magnitudes are in SI units\n",
    "# and angles are in degrees\n",
    "v0 = 10\n",
    "theta = 45\n",
    "\n",
    "# Trigonometric functions take arguments in radians\n",
    "deg2rad = np.pi / 180\n",
    "\n",
    "# The value of gravity is fixed\n",
    "g = 9.81\n",
    "\n",
    "# Set up the times at which we want to evaluate the position of the ball\n",
    "tmin, tmax, nts = 0, 1, 20\n",
    "ts = np.linspace(tmin, tmax, nts)\n",
    "\n",
    "# Compute the positions\n",
    "xs = v0 * np.cos(theta * deg2rad) * ts\n",
    "ys = - g * ts**2 / 2 + v0 * np.sin(theta * deg2rad) * ts\n",
    "zs = 0\n",
    "\n",
    "# Plot them\n",
    "font = 16   # set font size\n",
    "\n",
    "fig = plt.figure(figsize=(7, 5))\n",
    "ax = fig.add_subplot(1, 1, 1)\n",
    "ax.plot(xs, ys)\n",
    "ax.set_xlabel(r\"X [m]\", fontsize=font), ax.set_ylabel(r\"Y [m]\", fontsize=font)\n",
    "plt.tight_layout()"
   ]
  },
  {
   "cell_type": "markdown",
   "metadata": {},
   "source": [
    "We can see how the trajectory is a parabola, in which the ball gains height, then turn over and falls while it advances horizontally at constant speed.\n",
    "\n",
    "In general, it is better to package the code using functions for re-usability. This way we can use the same code to solve many different problems. It makes sense to use a version of the equations prior to performing any substitutions."
   ]
  },
  {
   "cell_type": "code",
   "execution_count": null,
   "metadata": {
    "ExecuteTime": {
     "end_time": "2021-01-31T23:25:36.628334Z",
     "start_time": "2021-01-31T23:25:36.618897Z"
    }
   },
   "outputs": [],
   "source": [
    "# First, let's code a helper function that gives us the velocity components\n",
    "# given the speed and aim angle\n",
    "def initial_velocity(v0, theta):\n",
    "    '''Returns velocity components given speed and angle with horizontal'''\n",
    "    import numpy as np\n",
    "\n",
    "    deg2rad = np.pi / 180\n",
    "    v0_x = v0 * np.cos(theta * deg2rad)\n",
    "\n",
    "    # START YOUR CODE HERE (1 line of code)>>>>>>>>>>>>>>>>>>\n",
    "    v0_y =\n",
    "    # >>>>>>>>>>>>>>>>>>>>>>>>>>>>>>>>>>>> END YOUR CODE HERE\n",
    "\n",
    "    v0_z = 0\n",
    "\n",
    "    return v0_x, v0_y, v0_z\n",
    "\n",
    "# Second, let's create a function that gives the position of the ball at a\n",
    "# given time t\n",
    "\n",
    "\n",
    "def parabolic_positions(t, r0, v0):\n",
    "    '''Returns positions at time t given initial positions r0 and velocities v0'''\n",
    "\n",
    "    # define gravitational constant\n",
    "    g = 9.81\n",
    "\n",
    "    # unpackage inputs\n",
    "    x0 = r0[0]\n",
    "    y0 = r0[1]\n",
    "    z0 = r0[2]\n",
    "    vx0 = v0[0]\n",
    "    vy0 = v0[1]\n",
    "    vz0 = v0[2]\n",
    "\n",
    "    x = vx0 * t + x0\n",
    "\n",
    "    # START YOUR CODE HERE (1 line of code)>>>>>>>>>>>>>>>>>>\n",
    "    y =\n",
    "    # >>>>>>>>>>>>>>>>>>>>>>>>>>>>>>>>>>>> END YOUR CODE HERE\n",
    "\n",
    "    z = vz0 * t + z0\n",
    "\n",
    "    return x, y, z"
   ]
  },
  {
   "cell_type": "code",
   "execution_count": null,
   "metadata": {
    "ExecuteTime": {
     "end_time": "2021-01-31T23:25:38.464605Z",
     "start_time": "2021-01-31T23:25:38.456832Z"
    }
   },
   "outputs": [],
   "source": [
    "# Let's test the output for the initial velocity helper function\n",
    "initial_velocity(10, 45)"
   ]
  },
  {
   "cell_type": "markdown",
   "metadata": {},
   "source": [
    "**Expected Output**: \n",
    "<table style = \"width:40%\">\n",
    "    <tr>\n",
    "    <td>** initial_velocity(10, 45) **</td> \n",
    "        <td>(7.0710678118654755, 7.071067811865475, 0) </td> \n",
    "    </tr>\n",
    "\n",
    "</table>"
   ]
  },
  {
   "cell_type": "code",
   "execution_count": null,
   "metadata": {
    "ExecuteTime": {
     "end_time": "2021-01-31T23:25:39.222560Z",
     "start_time": "2021-01-31T23:25:39.214581Z"
    }
   },
   "outputs": [],
   "source": [
    "# Let's test the output for the computation of parabolic positions\n",
    "parabolic_positions(0.5, (0, 0, 0), (5, 5, 0))"
   ]
  },
  {
   "cell_type": "markdown",
   "metadata": {},
   "source": [
    "**Expected Output**: \n",
    "<table style = \"width:40%\">\n",
    "    <tr>\n",
    "    <td>** parabolic_positions(0.5, (0,0,0), (5,5,0)) **</td> \n",
    "        <td>(2.5, 1.27375, 0.0) </td> \n",
    "    </tr>\n",
    "\n",
    "</table>"
   ]
  },
  {
   "cell_type": "code",
   "execution_count": null,
   "metadata": {
    "ExecuteTime": {
     "end_time": "2021-01-31T23:25:40.863634Z",
     "start_time": "2021-01-31T23:25:40.851517Z"
    }
   },
   "outputs": [],
   "source": [
    "# Let's verify that we get the same result we got before with the\n",
    "# direct calculation\n",
    "\n",
    "# Now we can initialize the positions and velocities as\n",
    "r_t0 = (0, 0, 0)\n",
    "v_t0 = initial_velocity(10, 45)\n",
    "\n",
    "# Determine the same times as before\n",
    "\n",
    "# And get the coordinates with a call to the function\n",
    "xs, ys, zs = parabolic_positions(ts, r_t0, v_t0)\n",
    "\n",
    "# Plot result\n",
    "font = 16   # set font size\n",
    "\n",
    "fig = plt.figure(figsize=(7, 5))\n",
    "ax = fig.add_subplot(1, 1, 1)\n",
    "ax.plot(xs, ys)\n",
    "ax.set_xlabel(r\"X [m]\", fontsize=font), ax.set_ylabel(r\"Y [m]\", fontsize=font)\n",
    "plt.tight_layout()"
   ]
  },
  {
   "cell_type": "markdown",
   "metadata": {},
   "source": [
    "The question is which launch angle we need to maximize the height. We can see that the solution in this case can be found analytically. There are two times at which the ball is on the floor, the initial one, $t_0=0$ and the final one:\n",
    "\n",
    "$$y(t_f) = 0 \\rightarrow t_f = \\frac{2 v_0 \\sin \\theta}{g}$$\n",
    "\n",
    "The higher the initial vertical velocity, the longer the ball stays in the air, and the stronger the gravity, the less time the ball stays in the air.\n",
    "\n",
    "The maximum reach is then the $x$ position at that time:\n",
    "\n",
    "$$x_{max} = \\frac{2 v_0^2 \\sin \\theta \\cos \\theta}{g} = \\frac{v_0^2 \\sin(2\\theta)}{g}$$\n",
    "\n",
    "The maximum of this function is achieved when:\n",
    "\n",
    "$$\\sin(2\\theta) = 1 \\rightarrow \\theta = \\frac{\\pi}{4} \\equiv 45 \\rm deg$$\n",
    "\n",
    "And the value for that reach is:\n",
    "\n",
    "$$x_{max} = \\frac{v_0^2}{g}$$\n",
    "\n",
    "Check that the units make sense (it has units of lenght)"
   ]
  },
  {
   "cell_type": "code",
   "execution_count": null,
   "metadata": {
    "ExecuteTime": {
     "end_time": "2021-01-31T23:25:41.616528Z",
     "start_time": "2021-01-31T23:25:41.612399Z"
    }
   },
   "outputs": [],
   "source": [
    "# We can validate it using the functions we had before\n",
    "\n",
    "# Let's add first another helper function that gives the time-on-air\n",
    "\n",
    "def flight_time(v_0, theta):\n",
    "    import numpy as np\n",
    "\n",
    "    deg2rad = np.pi / 180\n",
    "    g = 9.81\n",
    "\n",
    "    # START YOUR CODE HERE (1 line of code)>>>>>>>>>>>>>>>>>>\n",
    "    t_f =\n",
    "    # >>>>>>>>>>>>>>>>>>>>>>>>>>>>>>>>>>>> END YOUR CODE HERE\n",
    "\n",
    "    return t_f"
   ]
  },
  {
   "cell_type": "code",
   "execution_count": null,
   "metadata": {
    "ExecuteTime": {
     "end_time": "2021-01-31T23:25:42.500471Z",
     "start_time": "2021-01-31T23:25:42.489957Z"
    }
   },
   "outputs": [],
   "source": [
    "# Let's test the output for the flight_time helper function\n",
    "flight_time(10, 45)"
   ]
  },
  {
   "cell_type": "markdown",
   "metadata": {},
   "source": [
    "**Expected Output**: \n",
    "<table style = \"width:40%\">\n",
    "    <tr>\n",
    "    <td>** flight_time(10, 45) **</td> \n",
    "        <td>1.4416040391163047 </td> \n",
    "    </tr>\n",
    "\n",
    "</table>"
   ]
  },
  {
   "cell_type": "code",
   "execution_count": null,
   "metadata": {
    "ExecuteTime": {
     "end_time": "2021-01-31T23:25:44.249709Z",
     "start_time": "2021-01-31T23:25:44.090897Z"
    }
   },
   "outputs": [],
   "source": [
    "# We are going to plot the trajectories, of a series of launchs that start\n",
    "# with different angles\n",
    "thetas = [10, 30, 45, 60, 80]\n",
    "\n",
    "# We will keep the initial speed fixed\n",
    "v_0 = 10\n",
    "\n",
    "# Compute, and plot, each trajectory\n",
    "font = 16   # set font size\n",
    "\n",
    "fig = plt.figure(figsize=(7, 5))\n",
    "ax = fig.add_subplot(1, 1, 1)\n",
    "ax.set_xlabel(r\"X [m]\", fontsize=font), ax.set_ylabel(r\"Y [m]\", fontsize=font)\n",
    "\n",
    "for theta in thetas:\n",
    "    v_t0 = initial_velocity(v_0, theta)\n",
    "\n",
    "    ts = np.linspace(0, flight_time(v_0, theta), 100)\n",
    "\n",
    "    xs, ys, zs = parabolic_positions(ts, (0, 0, 0), v_t0)\n",
    "\n",
    "    ax.plot(xs, ys, label=r\"{} deg\".format(theta))\n",
    "\n",
    "ax.legend(), ax.grid()\n",
    "plt.tight_layout()"
   ]
  },
  {
   "cell_type": "code",
   "execution_count": null,
   "metadata": {
    "ExecuteTime": {
     "end_time": "2021-01-31T23:25:44.931356Z",
     "start_time": "2021-01-31T23:25:44.828796Z"
    }
   },
   "outputs": [],
   "source": [
    "# As we did in the week 1 notebook, we can actually animate this\n",
    "# plot to, interactively, see the influence of the angle on the reach\n",
    "\n",
    "from ipywidgets import interactive       # make interactive plots\n",
    "\n",
    "# These properties are common to all the plots\n",
    "r_0 = (0, 0, 0)\n",
    "v_0 = 10\n",
    "\n",
    "# Define the values for the parameters we want to visualize\n",
    "theta_min, theta_max = 1, 89\n",
    "theta_step = 5\n",
    "\n",
    "\n",
    "def f(theta):\n",
    "    # initialize velocity\n",
    "    v_t0 = initial_velocity(v_0, theta)\n",
    "    # compute the flight time\n",
    "    t_f = flight_time(v_0, theta)\n",
    "    ts = np.linspace(0, t_f, 100)\n",
    "    # compute the ball's positions\n",
    "    xs, ys, zs = parabolic_positions(ts, r_0, v_t0)\n",
    "    # compute the maximum distances for scaling\n",
    "    x_max = v_0**2 / g\n",
    "    y_max = v_0**2 / g / 2\n",
    "    # plot\n",
    "    plt.rcParams.update({'font.size': 14})\n",
    "    fig = plt.figure()\n",
    "    ax = fig.add_subplot(1, 1, 1)\n",
    "    ax.plot(xs, ys)\n",
    "    ax.set_xlim((0, x_max)), ax.set_ylim((0, y_max))\n",
    "    ax.set_xlabel(r\"X [m]\"), ax.set_ylabel(r\"Y [m]\")\n",
    "    plt.tight_layout()\n",
    "    plt.show()\n",
    "\n",
    "\n",
    "# Output interactive plot\n",
    "interactive_plot = interactive(f, theta=(theta_min, theta_max, theta_step))\n",
    "output = interactive_plot.children[-1]\n",
    "output.layout.height = '350px'\n",
    "interactive_plot"
   ]
  },
  {
   "cell_type": "markdown",
   "metadata": {},
   "source": [
    "## b. Numeric approach\n",
    "\n",
    "In general, the differential equations of motion do not have an analytical solution, but we can compute one numerically. The method we are going to use here is not how it is usually done (there are far better methods), but it is the simplest to illustrate the principles behind the numerical solution of differential equations.\n",
    "\n",
    "In general, we want to solve equations of the form:\n",
    "\n",
    "$$\\frac{dy}{dt} = f(y, t)$$\n",
    "\n",
    "We can start with a known initial condition:\n",
    "\n",
    "$$y(t_0) = y_0$$\n",
    "\n",
    "Then, the solution for another time, close to the initial time, can be approximated as:\n",
    "\n",
    "$$y(t_1) \\approx y(t_0) + \\Delta y |_0 = y(t_0) + \\frac{\\Delta y}{\\Delta t}|_0  \\Delta t= y_0 + f(y_0, t_0) \\Delta t$$\n",
    "\n",
    "And iteratively, we can compute the solution at any point in time using the solution at a previous point in time, and evaluating the function $f$ at that point in time:\n",
    "\n",
    "$$y(t_{i+1}) \\approx  y_i + f(y_i, t_i) \\Delta t$$\n",
    "\n",
    "Let's implement such a function, and use it to solve our problem:"
   ]
  },
  {
   "cell_type": "markdown",
   "metadata": {},
   "source": [
    "We can decompose our problem in the following steps:\n",
    "\n",
    "\n",
    "  1. Using the velocity, compute the new position at the next point\n",
    "  $$\\mathbf{x}_i = \\mathbf{x}_{i-1} + \\mathbf{v}_{i-1} * \\Delta t$$\n",
    "\n",
    "  2. Using the acceleration, compute the new velocity\n",
    "  $$\\mathbf{v}_i = \\mathbf{v}_{i-1} + \\mathbf{a}_{i-1} * \\Delta t$$\n",
    "\n"
   ]
  },
  {
   "cell_type": "code",
   "execution_count": null,
   "metadata": {
    "ExecuteTime": {
     "end_time": "2021-01-31T23:25:46.986323Z",
     "start_time": "2021-01-31T23:25:46.977517Z"
    }
   },
   "outputs": [],
   "source": [
    "def parabolic_positions_numeric(t, r0, v0):\n",
    "\n",
    "    import numpy as np\n",
    "\n",
    "    # as before t is an array with times, let's initialize the outputs\n",
    "    xs = np.zeros(len(t))\n",
    "    ys = np.zeros(len(t))\n",
    "    zs = np.zeros(len(t))\n",
    "\n",
    "    # we start at the initial condition\n",
    "    xs[0] = r0[0]\n",
    "    ys[0] = r0[0]\n",
    "    zs[0] = zs[0]\n",
    "\n",
    "    # with the initial velocity\n",
    "    vx = v0[0]\n",
    "    vy = v0[1]\n",
    "    vz = v0[2]\n",
    "\n",
    "    # let's iterate to compute the positions at all subsequent points in time\n",
    "    for i in range(1, len(t)):\n",
    "        # compute the time step\n",
    "        dt = t[i] - t[i-1]\n",
    "        # update positions with velocity\n",
    "        xs[i] = xs[i-1] + vx * dt\n",
    "        ys[i] = ys[i-1] + vy * dt\n",
    "        zs[i] = zs[i-1] + vz * dt\n",
    "        # update velocity with acceleration\n",
    "        vx = vx\n",
    "        vy = vy - g * dt\n",
    "        vz = vz\n",
    "\n",
    "    return xs, ys, zs"
   ]
  },
  {
   "cell_type": "code",
   "execution_count": null,
   "metadata": {
    "ExecuteTime": {
     "end_time": "2021-01-31T23:25:48.060985Z",
     "start_time": "2021-01-31T23:25:48.044870Z"
    }
   },
   "outputs": [],
   "source": [
    "# The precision of the approximation will depend on the time step used\n",
    "# Let's see that with an interactie plot\n",
    "\n",
    "# common parameters that will not change\n",
    "r_t0 = (0, 0, 0)\n",
    "v_t0 = initial_velocity(10, 45)\n",
    "t_f = flight_time(10, 45)\n",
    "\n",
    "# parameters that we want to change\n",
    "min_time_steps = 5\n",
    "max_time_steps = 100\n",
    "change_time_steps = 5\n",
    "\n",
    "\n",
    "def f(time_steps):\n",
    "    # compute the times that correspond to the number of time steps desired\n",
    "    ts_a = np.linspace(0, t_f, 100)\n",
    "    ts_n = np.linspace(0, t_f, time_steps)\n",
    "    # compute the positions using the exact, analytic formula\n",
    "    xs_a, ys_a, zs_a = parabolic_positions(ts_a, r_t0, v_t0)\n",
    "    # compute the positions using the approximate, numeric method\n",
    "    xs_n, ys_n, zs_n = parabolic_positions_numeric(ts_n, r_t0, v_t0)\n",
    "\n",
    "    # plot\n",
    "    plt.rcParams.update({'font.size': 14})\n",
    "    fig = plt.figure()\n",
    "    ax = fig.add_subplot(1, 1, 1)\n",
    "    ax.plot(xs_a, ys_a, 'k-', label='exact')\n",
    "    ax.plot(xs_n, ys_n, 'b-', label='approximate')\n",
    "    ax.legend()\n",
    "\n",
    "    plt.tight_layout()\n",
    "    plt.show()\n",
    "\n",
    "\n",
    "# Output interactive plot\n",
    "interactive_plot = interactive(f, time_steps=(min_time_steps, max_time_steps,\n",
    "                                              change_time_steps))\n",
    "output = interactive_plot.children[-1]\n",
    "output.layout.height = '350px'\n",
    "interactive_plot"
   ]
  },
  {
   "cell_type": "markdown",
   "metadata": {},
   "source": [
    "We see how the numeric approximation tends to overshoot the exact solution, and needs many time steps (around 500) to fit the known solution.\n",
    "\n",
    "This is because we are using a poor numeric approximation. For example, to propagate the position in y we are using the vertical position in the previous position, which is the maximum vertical velocity as the ball moves in that time interval. \n",
    "\n",
    "A simple improvement would be to update the velocity first, to the average between the velocity at the beginning and the end of the interval:\n",
    "\n",
    "  1. Using half the acceleration, compute the new velocity\n",
    "  $$\\mathbf{v}_i = \\mathbf{v}_{i-1} + 0.5 * \\mathbf{a}_{i-1} * \\Delta t$$\n",
    "\n",
    "  2. Using the velocity, compute the new position at the next point\n",
    "  $$\\mathbf{x}_i = \\mathbf{x}_{i-1} + \\mathbf{v}_{i-1} * \\Delta t$$\n",
    "\n",
    "  3. Using half the acceleration, update the new velocity\n",
    "  $$\\mathbf{v}_i = \\mathbf{v}_{i-1} + 0.5 * \\mathbf{a}_{i-1} * \\Delta t$$\n",
    "\n",
    "This scheme is called \"leap frog\" and it improves numerical convergence dramatically"
   ]
  },
  {
   "cell_type": "code",
   "execution_count": null,
   "metadata": {
    "ExecuteTime": {
     "end_time": "2021-01-31T23:25:48.817561Z",
     "start_time": "2021-01-31T23:25:48.808724Z"
    }
   },
   "outputs": [],
   "source": [
    "def parabolic_positions_numeric(t, r0, v0):\n",
    "\n",
    "    import numpy as np\n",
    "\n",
    "    # as before t is an array with times, let's initialize the outputs\n",
    "    xs = np.zeros(len(t))\n",
    "    ys = np.zeros(len(t))\n",
    "    zs = np.zeros(len(t))\n",
    "\n",
    "    # we start at the initial condition\n",
    "    xs[0] = r0[0]\n",
    "    ys[0] = r0[0]\n",
    "    zs[0] = zs[0]\n",
    "\n",
    "    # with the initial velocity\n",
    "    vx = v0[0]\n",
    "    vy = v0[1]\n",
    "    vz = v0[2]\n",
    "\n",
    "    # let's iterate to compute the positions at all subsequent points in time\n",
    "    for i in range(1, len(t)):\n",
    "        # compute the time step\n",
    "        dt = t[i] - t[i-1]\n",
    "        # update velocity with half acceleration\n",
    "        vx = vx\n",
    "        vy = vy - g * dt / 2\n",
    "        vz = vz\n",
    "        # update positions with velocity\n",
    "        xs[i] = xs[i-1] + vx * dt\n",
    "        ys[i] = ys[i-1] + vy * dt\n",
    "        zs[i] = zs[i-1] + vz * dt\n",
    "        # update velocity again with half acceleration\n",
    "\n",
    "        # START YOUR CODE HERE (3 lines of code)>>>>>>>>>>>>>>>>>>\n",
    "        vx =\n",
    "        vy =\n",
    "        vz =\n",
    "        # >>>>>>>>>>>>>>>>>>>>>>>>>>>>>>>>>>>> END YOUR CODE HERE\n",
    "\n",
    "    return xs, ys, zs"
   ]
  },
  {
   "cell_type": "code",
   "execution_count": null,
   "metadata": {
    "ExecuteTime": {
     "end_time": "2021-01-31T23:25:49.625172Z",
     "start_time": "2021-01-31T23:25:49.620113Z"
    }
   },
   "outputs": [],
   "source": [
    "# Let's test the output for the flight_time helper function\n",
    "parabolic_positions_numeric([0, 0.2], (0, 0, 0), (5, 5, 0))"
   ]
  },
  {
   "cell_type": "markdown",
   "metadata": {},
   "source": [
    "**Expected Output**: \n",
    "<table style = \"width:40%\">\n",
    "    <tr>\n",
    "    <td>** parabolic_positions_numeric([0, 0.2], (0,0,0), (5,5,0)) **</td> \n",
    "        <td>(array([0., 1.]), array([0.    , 0.8038]), array([0., 0.])) </td> \n",
    "    </tr>\n",
    "\n",
    "</table>"
   ]
  },
  {
   "cell_type": "code",
   "execution_count": null,
   "metadata": {
    "ExecuteTime": {
     "end_time": "2021-01-31T23:25:51.257579Z",
     "start_time": "2021-01-31T23:25:51.239984Z"
    }
   },
   "outputs": [],
   "source": [
    "# Let's see how the numeric precision with this improved method is so much\n",
    "# better\n",
    "\n",
    "# common parameters that will not change\n",
    "r_t0 = (0, 0, 0)\n",
    "v_t0 = initial_velocity(10, 45)\n",
    "t_f = flight_time(10, 45)\n",
    "\n",
    "# parameters that we want to change\n",
    "min_time_steps = 5\n",
    "max_time_steps = 100\n",
    "change_time_steps = 5\n",
    "\n",
    "\n",
    "def f(time_steps):\n",
    "    # compute the times that correspond to the number of time steps desired\n",
    "    ts_a = np.linspace(0, t_f, 100)\n",
    "    ts_n = np.linspace(0, t_f, time_steps)\n",
    "    # compute the positions using the exact, analytic formula\n",
    "    xs_a, ys_a, zs_a = parabolic_positions(ts_a, r_t0, v_t0)\n",
    "    # compute the positions using the approximate, numeric method\n",
    "    xs_n, ys_n, zs_n = parabolic_positions_numeric(ts_n, r_t0, v_t0)\n",
    "\n",
    "    # plot\n",
    "    plt.rcParams.update({'font.size': 14})\n",
    "    fig = plt.figure()\n",
    "    ax = fig.add_subplot(1, 1, 1)\n",
    "    ax.plot(xs_a, ys_a, 'k-', label='exact')\n",
    "    ax.plot(xs_n, ys_n, 'b-', label='approximate')\n",
    "    ax.legend()\n",
    "\n",
    "    plt.tight_layout()\n",
    "    plt.show()\n",
    "\n",
    "\n",
    "# Output interactive plot\n",
    "interactive_plot = interactive(f, time_steps=(min_time_steps, max_time_steps,\n",
    "                                              change_time_steps))\n",
    "output = interactive_plot.children[-1]\n",
    "output.layout.height = '350px'\n",
    "interactive_plot"
   ]
  },
  {
   "cell_type": "markdown",
   "metadata": {},
   "source": [
    "See how the performance improves tremendously, and now only ~20 time steps suffice to get an answer that is essentially the same as the exact solution."
   ]
  },
  {
   "cell_type": "markdown",
   "metadata": {},
   "source": [
    "### Adding air drag to our problem\n",
    "\n",
    "+ The big advantage of using a numerical approach, is that now we can solve problems that are more complex, and for which we do not have a good analytic solution.\n",
    "\n",
    "+ For example, let's remove the simplifying assumption about air drag. Let's now suppose that the ball experiences a drag that is proportional to its speed, and oposses it:\n",
    "\n",
    "$$\\mathbf{F_D} = - C_D \\mathbf{v}$$\n",
    "\n",
    "+ Now, we can modify the numeric function just changing the acceleration term:\n",
    "\n"
   ]
  },
  {
   "cell_type": "code",
   "execution_count": null,
   "metadata": {
    "ExecuteTime": {
     "end_time": "2021-01-31T23:25:53.328593Z",
     "start_time": "2021-01-31T23:25:53.320907Z"
    }
   },
   "outputs": [],
   "source": [
    "def parabolic_positions_numeric_drag(t, r0, v0, c_d=0):\n",
    "\n",
    "    import numpy as np\n",
    "\n",
    "    g = 9.81\n",
    "\n",
    "    # as before t is an array with times, let's initialize the outputs\n",
    "    xs = np.zeros(len(t))\n",
    "    ys = np.zeros(len(t))\n",
    "    zs = np.zeros(len(t))\n",
    "\n",
    "    # we start at the initial condition\n",
    "    xs[0] = r0[0]\n",
    "    ys[0] = r0[0]\n",
    "    zs[0] = zs[0]\n",
    "\n",
    "    # with the initial velocity\n",
    "    vx = v0[0]\n",
    "    vy = v0[1]\n",
    "    vz = v0[2]\n",
    "\n",
    "    # let's iterate to compute the positions at all subsequent points in time\n",
    "    for i in range(1, len(t)):\n",
    "        # compute the time step\n",
    "        dt = t[i] - t[i-1]\n",
    "        # update velocity with half acceleration\n",
    "        vx = vx - c_d * vx * dt / 2\n",
    "        vy = vy - c_d * vy * dt / 2 - g * dt / 2\n",
    "        vz = vz - c_d * vz * dt / 2\n",
    "        # update positions with velocity\n",
    "        xs[i] = xs[i-1] + vx * dt\n",
    "        ys[i] = ys[i-1] + vy * dt\n",
    "        zs[i] = zs[i-1] + vz * dt\n",
    "        # update velocity again with half acceleration\n",
    "        vx = vx - c_d * vx * dt / 2\n",
    "        vy = vy - c_d * vy * dt / 2 - g * dt / 2\n",
    "        vz = vz - c_d * vz * dt / 2\n",
    "\n",
    "    return xs, ys, zs"
   ]
  },
  {
   "cell_type": "code",
   "execution_count": null,
   "metadata": {
    "ExecuteTime": {
     "end_time": "2021-01-31T23:25:57.535828Z",
     "start_time": "2021-01-31T23:25:57.524958Z"
    }
   },
   "outputs": [],
   "source": [
    "# First, let's check that when the drag coefficient is zero, the solution is the\n",
    "# same as with the analytic one\n",
    "\n",
    "r_t0 = (0, 0, 0)\n",
    "v_t0 = initial_velocity(10, 45)\n",
    "t_f = flight_time(10, 45)\n",
    "\n",
    "# Let's use 100 time steps, to guarantee numerical convergence\n",
    "ts = np.linspace(0, t_f, 100)\n",
    "\n",
    "# compute the positions using the exact, analytic formula\n",
    "xs_a, ys_a, zs_a = parabolic_positions(ts, r_t0, v_t0)\n",
    "# compute the positions using the approximate, numeric method\n",
    "xs_n, ys_n, zs_n = parabolic_positions_numeric_drag(ts, r_t0, v_t0, c_d=0)\n",
    "\n",
    "# plot\n",
    "plt.rcParams.update({'font.size': 14})\n",
    "fig = plt.figure()\n",
    "ax = fig.add_subplot(1, 1, 1)\n",
    "ax.plot(xs_a, ys_a, 'k-', label='exact')\n",
    "ax.plot(xs_n, ys_n, 'b-', label='approximate')\n",
    "ax.legend()\n",
    "\n",
    "plt.tight_layout()\n",
    "plt.show()"
   ]
  },
  {
   "cell_type": "code",
   "execution_count": null,
   "metadata": {
    "ExecuteTime": {
     "end_time": "2021-01-31T23:25:58.246049Z",
     "start_time": "2021-01-31T23:25:58.232565Z"
    }
   },
   "outputs": [],
   "source": [
    "# Now, let's explore the impact of the drag coefficient\n",
    "# Let's see that with an interactie plot\n",
    "\n",
    "# common parameters that will not change\n",
    "r_t0 = (0, 0, 0)\n",
    "v_t0 = initial_velocity(10, 45)\n",
    "t_f = flight_time(10, 45)\n",
    "\n",
    "ts = np.linspace(0, t_f, 100)\n",
    "\n",
    "# parameters that we want to change\n",
    "min_drag = 0\n",
    "max_drag = 1\n",
    "change_drag = 0.1\n",
    "\n",
    "\n",
    "def f(drag):\n",
    "    # compute the positions using the exact, analytic formula\n",
    "    xs_a, ys_a, zs_a = parabolic_positions(ts, r_t0, v_t0)\n",
    "    # compute the positions using the approximate, numeric method\n",
    "    xs_n, ys_n, zs_n = parabolic_positions_numeric_drag(ts, r_t0, v_t0, drag)\n",
    "\n",
    "    # plot\n",
    "    plt.rcParams.update({'font.size': 14})\n",
    "    fig = plt.figure()\n",
    "    ax = fig.add_subplot(1, 1, 1)\n",
    "    ax.plot(xs_a, ys_a, 'k-', label='no-drag')\n",
    "    ax.plot(xs_n[ys_n >= 0], ys_n[ys_n >= 0], 'b-', label='drag')\n",
    "    ax.set_xlabel(r\"X [m]\"), ax.set_ylabel(r\"Y [m]\")\n",
    "    ax.legend(loc=1)\n",
    "\n",
    "    plt.tight_layout()\n",
    "    plt.show()\n",
    "\n",
    "\n",
    "# Output interactive plot\n",
    "interactive_plot = interactive(f, drag=(min_drag, max_drag, change_drag))\n",
    "output = interactive_plot.children[-1]\n",
    "output.layout.height = '350px'\n",
    "interactive_plot"
   ]
  },
  {
   "cell_type": "markdown",
   "metadata": {},
   "source": [
    "See how air drag reduces both the reach of the ball, and its maximum height. The numeric approach allows us to solve this problem with little complexity added relative to the case without drag.\n",
    "\n",
    "Ideally, you would code separate functions for the integration and the evaluation of the acceleration, so that you can use the same integration function with different accelerations.\n",
    "\n",
    "In practice, you would not code your own integration function, but use one from a library, since there are implementations that have been thoroughly tested for numeric accuracy and computing time efficiency."
   ]
  },
  {
   "cell_type": "code",
   "execution_count": null,
   "metadata": {},
   "outputs": [],
   "source": []
  }
 ],
 "metadata": {
  "kernelspec": {
   "display_name": "Python 3",
   "language": "python",
   "name": "python3"
  },
  "language_info": {
   "codemirror_mode": {
    "name": "ipython",
    "version": 3
   },
   "file_extension": ".py",
   "mimetype": "text/x-python",
   "name": "python",
   "nbconvert_exporter": "python",
   "pygments_lexer": "ipython3",
   "version": "3.8.3"
  }
 },
 "nbformat": 4,
 "nbformat_minor": 4
}
