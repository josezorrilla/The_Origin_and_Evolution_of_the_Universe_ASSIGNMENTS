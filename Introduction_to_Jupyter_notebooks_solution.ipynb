{
 "cells": [
  {
   "cell_type": "markdown",
   "metadata": {},
   "source": [
    "# Jupyter notebooks as a computing environment\n",
    "\n",
    " + A \"notebook\" is a series of cells. Each cell can contain, text, links to media, code, or a combination of all of them.\n",
    " \n",
    " + When a cell is executed, all the code within it is run.\n",
    " \n",
    " + To execute a cell, either clidk on the \"run\" button in the tool bar, or simply press \"shift + enter\"\n",
    " \n",
    " + If you press \"alt + enter\" (\"option + enter\" on mac), you will execute the cell and create a new cell after it\n",
    " \n",
    " + Typically, the code within a notebook is run using a single programming language, we will be using Python, which has intuitive syntax and does not need to be compiled, allowing for a iterative style of programming."
   ]
  },
  {
   "cell_type": "markdown",
   "metadata": {},
   "source": [
    "This cell only includes text, and as such has been specified as \"markdown\" on the drop-down menu of the tool bar. When run, the server that runs the notebook will not interpret it as code."
   ]
  },
  {
   "cell_type": "code",
   "execution_count": 1,
   "metadata": {},
   "outputs": [
    {
     "name": "stdout",
     "output_type": "stream",
     "text": [
      "Hello world\n"
     ]
    }
   ],
   "source": [
    "# This cell is a code cell. You can also input text on a code cell as a comment\n",
    "# Comments in Python are preceded by a '#' symbol\n",
    "# The following line is code, a print statement, when run, it will print as output the argument passed to the\n",
    "# print function:\n",
    "\n",
    "print(\"Hello world\")"
   ]
  },
  {
   "cell_type": "markdown",
   "metadata": {},
   "source": [
    "+ Note how the editor helps you formatting code in a specific way\n",
    "\n",
    "+ For instance, function calls appear in light green, strings in red, and comments in darker green"
   ]
  },
  {
   "cell_type": "markdown",
   "metadata": {},
   "source": [
    "## Variables"
   ]
  },
  {
   "cell_type": "code",
   "execution_count": 3,
   "metadata": {},
   "outputs": [
    {
     "name": "stdout",
     "output_type": "stream",
     "text": [
      "Type of a : <class 'int'>\n",
      "Type of b : <class 'float'>\n",
      "Type of c : <class 'str'>\n",
      "New type of c : <class 'float'>\n"
     ]
    }
   ],
   "source": [
    "# Python has some basic built-in functions that you can use right off-the bat\n",
    "\n",
    "# For example, you can create variables and asign values to them. Python will \n",
    "# assign a type to them based on the value passed to their initialization\n",
    "\n",
    "# This variable will be interpreted as an integer\n",
    "a = 3\n",
    "print(\"Type of a : {}\".format(type(a)))\n",
    "\n",
    "# This other variable will be interpred as a float (a real number)\n",
    "b = 2.0\n",
    "print(\"Type of b : {}\".format(type(b)))\n",
    "\n",
    "# This other variable will be interpreted as a string, a list of characters\n",
    "c = \"Word\"\n",
    "print(\"Type of c : {}\".format(type(c)))\n",
    "\n",
    "# If you assign a different value to a variable, its type changes automatically\n",
    "c = 5.4\n",
    "print(\"New type of c : {}\".format(type(c)))"
   ]
  },
  {
   "cell_type": "markdown",
   "metadata": {},
   "source": [
    "+ Python manages automatically (and dynamically) the types of variables\n",
    "+ This is comfortable, you won't need to specify it, but dangerous, since if the type of a variable changes by mistake, its behavior when operating may not be the expected one\n",
    "+ Also, Python needs to check the types of all variables before using them, which slows slighly its performance in temps of computing time compared with other languages like C\n",
    "+ That loss of performance is almost always compensated by the shorter time it takes to develop code in Python"
   ]
  },
  {
   "cell_type": "markdown",
   "metadata": {},
   "source": [
    "## Operators"
   ]
  },
  {
   "cell_type": "code",
   "execution_count": 3,
   "metadata": {},
   "outputs": [
    {
     "name": "stdout",
     "output_type": "stream",
     "text": [
      "c = 5, type of c : <class 'int'>\n",
      "c = 5.0, type of c : <class 'float'>\n",
      "c = Home sweet home, type of c : <class 'str'>\n"
     ]
    },
    {
     "ename": "TypeError",
     "evalue": "unsupported operand type(s) for +: 'float' and 'str'",
     "output_type": "error",
     "traceback": [
      "\u001b[0;31m---------------------------------------------------------------------------\u001b[0m",
      "\u001b[0;31mTypeError\u001b[0m                                 Traceback (most recent call last)",
      "\u001b[0;32m<ipython-input-3-ba7b183c01a8>\u001b[0m in \u001b[0;36m<module>\u001b[0;34m\u001b[0m\n\u001b[1;32m     20\u001b[0m \u001b[0;31m# Be careful when the type of a variable changes!\u001b[0m\u001b[0;34m\u001b[0m\u001b[0;34m\u001b[0m\u001b[0;34m\u001b[0m\u001b[0m\n\u001b[1;32m     21\u001b[0m \u001b[0ma\u001b[0m \u001b[0;34m=\u001b[0m \u001b[0;36m1.2\u001b[0m\u001b[0;34m\u001b[0m\u001b[0;34m\u001b[0m\u001b[0m\n\u001b[0;32m---> 22\u001b[0;31m \u001b[0mc\u001b[0m \u001b[0;34m=\u001b[0m \u001b[0ma\u001b[0m \u001b[0;34m+\u001b[0m \u001b[0mb\u001b[0m\u001b[0;34m\u001b[0m\u001b[0;34m\u001b[0m\u001b[0m\n\u001b[0m\u001b[1;32m     23\u001b[0m \u001b[0mprint\u001b[0m\u001b[0;34m(\u001b[0m\u001b[0;34m\"c = {}, type of c : {}\"\u001b[0m\u001b[0;34m.\u001b[0m\u001b[0mformat\u001b[0m\u001b[0;34m(\u001b[0m\u001b[0mc\u001b[0m\u001b[0;34m,\u001b[0m \u001b[0mtype\u001b[0m\u001b[0;34m(\u001b[0m\u001b[0mc\u001b[0m\u001b[0;34m)\u001b[0m\u001b[0;34m)\u001b[0m\u001b[0;34m)\u001b[0m\u001b[0;34m\u001b[0m\u001b[0;34m\u001b[0m\u001b[0m\n",
      "\u001b[0;31mTypeError\u001b[0m: unsupported operand type(s) for +: 'float' and 'str'"
     ]
    }
   ],
   "source": [
    "# Python has some built-in operators, whose behavior depends on the types of the variables they act upon\n",
    "# For example, the addition of integers is another integer\n",
    "a = 3\n",
    "b = 2\n",
    "c = a + b\n",
    "print(\"c = {}, type of c : {}\".format(c, type(c)))\n",
    "\n",
    "# The addition of an integer and a float (or two floats) is a float\n",
    "a = 3\n",
    "b = 2.0\n",
    "c = a + b\n",
    "print(\"c = {}, type of c : {}\".format(c, type(c)))\n",
    "\n",
    "# The addition of strings is their concatenation\n",
    "a = \"Home \"\n",
    "b = \"sweet home\"\n",
    "c = a + b\n",
    "print(\"c = {}, type of c : {}\".format(c, type(c)))\n",
    "\n",
    "# Be careful when the type of a variable changes!\n",
    "a = 1.2\n",
    "c = a + b\n",
    "print(\"c = {}, type of c : {}\".format(c, type(c)))"
   ]
  },
  {
   "cell_type": "markdown",
   "metadata": {},
   "source": [
    "+ The last operation in the previous cell gives an error message\n",
    "+ Error messages include helpful information to fix (debug) your code\n",
    "+ In the above example:\n",
    "\n",
    "    + The last line tells you that you are trying to use the '+' operator with a float and a string\n",
    "    + This is not allowed because this operation is not defined in Python\n",
    "    + It also shows you the line where the error is raised (22), as well as the surrounding lines for context"
   ]
  },
  {
   "cell_type": "markdown",
   "metadata": {},
   "source": [
    "## Control loops"
   ]
  },
  {
   "cell_type": "code",
   "execution_count": 4,
   "metadata": {},
   "outputs": [
    {
     "name": "stdout",
     "output_type": "stream",
     "text": [
      "0\n",
      "1\n",
      "2\n"
     ]
    }
   ],
   "source": [
    "# Python has the typical control loops present in all procedural languages\n",
    "# The main two are the 'for loop' and the 'if else' condition\n",
    "\n",
    "# When an operation needs to be done many times, it is often convenient (and compact) to use a 'for loop'\n",
    "# For example, instead of:\n",
    "print(0)\n",
    "print(1)\n",
    "print(2)"
   ]
  },
  {
   "cell_type": "code",
   "execution_count": 5,
   "metadata": {},
   "outputs": [
    {
     "name": "stdout",
     "output_type": "stream",
     "text": [
      "0\n",
      "1\n",
      "2\n"
     ]
    }
   ],
   "source": [
    "# we can do\n",
    "for i in range(3):\n",
    "    print(i)\n",
    "    \n",
    "# the above lines have some clear advangates:\n",
    "# They are also 2 lines, no matter how many print statements we want to execute\n",
    "# We can also use a variable for the number of print statements, whose value can depend on \n",
    "# a previous state of the program"
   ]
  },
  {
   "cell_type": "code",
   "execution_count": 6,
   "metadata": {},
   "outputs": [
    {
     "name": "stdout",
     "output_type": "stream",
     "text": [
      "0\n",
      "1\n",
      "2\n",
      "3\n",
      "4\n"
     ]
    }
   ],
   "source": [
    "n = 5\n",
    "for i in range(n):\n",
    "    print(i)"
   ]
  },
  {
   "cell_type": "code",
   "execution_count": 7,
   "metadata": {},
   "outputs": [
    {
     "name": "stdout",
     "output_type": "stream",
     "text": [
      "a is less than 5\n"
     ]
    }
   ],
   "source": [
    "# Sometimes we want the behavior of our program to depend on the value of some variable\n",
    "# a simple way to do so is with an 'if else' statement\n",
    "a = 3\n",
    "if a < 5:\n",
    "    print(\"a is less than 5\")\n",
    "else:\n",
    "    print(\"a is larger than / equal to 5\")"
   ]
  },
  {
   "cell_type": "markdown",
   "metadata": {},
   "source": [
    "## Functions"
   ]
  },
  {
   "cell_type": "code",
   "execution_count": 8,
   "metadata": {},
   "outputs": [
    {
     "name": "stdout",
     "output_type": "stream",
     "text": [
      "even\n"
     ]
    }
   ],
   "source": [
    "# Sometimes, we want to do operations that are more complex that just the application of a simple\n",
    "# operator. In these cases it is often useful to pack together all the lines of code describing \n",
    "# the operation in a block of code, a function, that can be re-used many times by calling it by its name\n",
    "\n",
    "def odd_or_even(x):\n",
    "    '''Returns 'odd' when x is odd and 'even' when x is even'''\n",
    "    # only integers can be odd or even, check the input before going any further\n",
    "    assert type(x)==int, \"Error: x must be an integer\"\n",
    "    \n",
    "    if x%2==0:   # checks if the remainder of dividing x by 2 is zero\n",
    "        output = 'even'\n",
    "    else:\n",
    "        output = 'odd'\n",
    "        \n",
    "    return output\n",
    "\n",
    "# Once defined, the function can be used:\n",
    "print(odd_or_even(6))"
   ]
  },
  {
   "cell_type": "code",
   "execution_count": 9,
   "metadata": {},
   "outputs": [
    {
     "name": "stdout",
     "output_type": "stream",
     "text": [
      "0 is even\n",
      "1 is odd\n",
      "2 is even\n",
      "3 is odd\n",
      "4 is even\n"
     ]
    }
   ],
   "source": [
    "# Once a function has been defined in a notebook, it can be used as many times as needed in the notebook\n",
    "for i in range(5):\n",
    "    print(\"{} is {}\".format(i, odd_or_even(i)))"
   ]
  },
  {
   "cell_type": "markdown",
   "metadata": {},
   "source": [
    "## Libraries"
   ]
  },
  {
   "cell_type": "code",
   "execution_count": 10,
   "metadata": {},
   "outputs": [],
   "source": [
    "# If you could only use functions you have defined, life would be tough, since you would need to \n",
    "# re-invent the wheel many, many times.\n",
    "# Instead, it is possible to use functions defined by other people, and stored in libraries\n",
    "# In order to do so, in Python we 'import' modules that contain the functions we want to use\n",
    "\n",
    "# For example, this is a common library to work with arrays (vectors, matrices, etc.)\n",
    "# We will import it and rename it, so that we can refer to it in a more compact way\n",
    "import numpy as np\n",
    "\n",
    "# This is another popular library, used to make plots\n",
    "import matplotlib.pyplot as plt\n",
    "\n",
    "# Finally, this is a jupyter notebook command that tells the notebook to display plots in a cell\n",
    "# instead of trying to open a window with it\n",
    "%matplotlib inline"
   ]
  },
  {
   "cell_type": "code",
   "execution_count": 11,
   "metadata": {},
   "outputs": [
    {
     "name": "stdout",
     "output_type": "stream",
     "text": [
      "[0.         0.06346652 0.12693304 0.19039955 0.25386607 0.31733259\n",
      " 0.38079911 0.44426563 0.50773215 0.57119866 0.63466518 0.6981317\n",
      " 0.76159822 0.82506474 0.88853126 0.95199777 1.01546429 1.07893081\n",
      " 1.14239733 1.20586385 1.26933037 1.33279688 1.3962634  1.45972992\n",
      " 1.52319644 1.58666296 1.65012947 1.71359599 1.77706251 1.84052903\n",
      " 1.90399555 1.96746207 2.03092858 2.0943951  2.15786162 2.22132814\n",
      " 2.28479466 2.34826118 2.41172769 2.47519421 2.53866073 2.60212725\n",
      " 2.66559377 2.72906028 2.7925268  2.85599332 2.91945984 2.98292636\n",
      " 3.04639288 3.10985939 3.17332591 3.23679243 3.30025895 3.36372547\n",
      " 3.42719199 3.4906585  3.55412502 3.61759154 3.68105806 3.74452458\n",
      " 3.8079911  3.87145761 3.93492413 3.99839065 4.06185717 4.12532369\n",
      " 4.1887902  4.25225672 4.31572324 4.37918976 4.44265628 4.5061228\n",
      " 4.56958931 4.63305583 4.69652235 4.75998887 4.82345539 4.88692191\n",
      " 4.95038842 5.01385494 5.07732146 5.14078798 5.2042545  5.26772102\n",
      " 5.33118753 5.39465405 5.45812057 5.52158709 5.58505361 5.64852012\n",
      " 5.71198664 5.77545316 5.83891968 5.9023862  5.96585272 6.02931923\n",
      " 6.09278575 6.15625227 6.21971879 6.28318531]\n"
     ]
    }
   ],
   "source": [
    "# Now, let's use these libraries to make the plot a sin function\n",
    "# First, let's define a series of points in the x-axis\n",
    "# We use the 'linspace' function in the numpy library. We call it using a 'dot' after the name of the module\n",
    "# that contains the function:\n",
    "#      module_name.function_name(arguments)\n",
    "# linspace takes 3 arguments, the first and second are the boundaries, and the last how many points to \n",
    "# sample between those boundaries (at equal distances)\n",
    "\n",
    "x = np.linspace(0, 2 * np.pi, 100)\n",
    "\n",
    "print(x)"
   ]
  },
  {
   "cell_type": "code",
   "execution_count": 12,
   "metadata": {},
   "outputs": [
    {
     "name": "stdout",
     "output_type": "stream",
     "text": [
      "Length of x = 100, length of y = 100\n"
     ]
    }
   ],
   "source": [
    "# Then, we can compute the sine of these numbers\n",
    "y = np.sin(x)\n",
    "\n",
    "# We can check that y has the same length as x\n",
    "print(\"Length of x = {}, length of y = {}\".format(len(x), len(y)))"
   ]
  },
  {
   "cell_type": "code",
   "execution_count": 13,
   "metadata": {},
   "outputs": [
    {
     "data": {
      "text/plain": [
       "[<matplotlib.lines.Line2D at 0x7f8888914fd0>]"
      ]
     },
     "execution_count": 13,
     "metadata": {},
     "output_type": "execute_result"
    },
    {
     "data": {
      "image/png": "[encoded data removed]",
      "text/plain": [
       "<Figure size 432x288 with 1 Axes>"
      ]
     },
     "metadata": {
      "needs_background": "light"
     },
     "output_type": "display_data"
    }
   ],
   "source": [
    "# Finally, we can make a plot\n",
    "plt.plot(x,y)"
   ]
  },
  {
   "cell_type": "markdown",
   "metadata": {},
   "source": [
    "In this class, we will use plots to understand the properties of the models we will study"
   ]
  },
  {
   "cell_type": "code",
   "execution_count": null,
   "metadata": {},
   "outputs": [],
   "source": []
  },
  {
   "cell_type": "markdown",
   "metadata": {},
   "source": [
    "# Exercise Instructions\n",
    "\n",
    "Below, we have a few cells with some illustrative calculations of how a simple model of the universe, coupled with a single observation (the night sky brightness) can be used to infer constraints in the age of the universe.\n",
    "\n",
    "Read carefully all the content in the cells, including the comments in the code cells\n",
    "\n",
    "Some lines of code have been removed. You are asked to fill in the gaps.\n",
    "\n",
    "Only modify lines that are between the following promts:\n",
    "\n",
    "'# START YOUR CODE HERE >>>>>>>>>>>>>>>>>>>>>>>>>>>>>>>>>>\n",
    "\n",
    "'# >>>>>>>>>>>>>>>>>>>>>>>>>>>>>>>>>>>> END YOUR CODE HERE\n",
    "\n",
    "After each cell there will be a test cell that will allow you to be confident you will be able to continue with the execution of the notebook.\n",
    "\n",
    "Here's an example"
   ]
  },
  {
   "cell_type": "code",
   "execution_count": 14,
   "metadata": {},
   "outputs": [],
   "source": [
    "# This is just a test to illustrate how we will do exercises with jupyter notebooks\n",
    "\n",
    "# This function adds two numbers and prints the result\n",
    "# Please fill in the gaps\n",
    "\n",
    "def print_sum(a,b):\n",
    "    \n",
    "    # START YOUR CODE HERE (1 line of code)>>>>>>>>>>>>>>>>>>\n",
    "    c = \n",
    "    # >>>>>>>>>>>>>>>>>>>>>>>>>>>>>>>>>>>> END YOUR CODE HERE\n",
    "    \n",
    "    print(c)\n",
    "    \n",
    "    return"
   ]
  },
  {
   "cell_type": "code",
   "execution_count": 15,
   "metadata": {},
   "outputs": [
    {
     "name": "stdout",
     "output_type": "stream",
     "text": [
      "3\n"
     ]
    }
   ],
   "source": [
    "# Run this cell to check that the above implementation is correct\n",
    "print_sum(1,2)"
   ]
  },
  {
   "cell_type": "markdown",
   "metadata": {},
   "source": [
    "**Expected Output**: \n",
    "<table style = \"width:40%\">\n",
    "    <tr>\n",
    "    <td>** print_sum(1,2) **</td> \n",
    "        <td>3 </td> \n",
    "    </tr>\n",
    "\n",
    "</table>"
   ]
  },
  {
   "cell_type": "code",
   "execution_count": 4,
   "metadata": {},
   "outputs": [],
   "source": [
    "# Imports needed for this notebook\n",
    "import astropy.units as u                # to deal easily with units\n",
    "from astropy.constants import c, L_sun   # speed of light, solar luminosity\n",
    "from numpy import pi                     # numeric value of pi\n",
    "import numpy as np                       # library to work with arrays\n",
    "import matplotlib.pyplot as plt          # library to make plots\n",
    "from ipywidgets import interactive       # make interactive plots\n",
    "\n",
    "%matplotlib inline                       "
   ]
  },
  {
   "cell_type": "markdown",
   "metadata": {},
   "source": [
    "# Olbers' paradox\n",
    "\n",
    "Following the same line of reasoning used during the lecture, the total flux of light coming from stars in a universe that is uniformly populated by sun-like stars can be computed adding the flux coming from spherical shells centered on us, observers:\n",
    "\n",
    "$$F_{tot} = \\sum_0^{r_{max}} F_{shell}\\left(r\\right)$$\n",
    "\n",
    "The flux of a shell is the sum of the fluxes from the individual stars in it. The total number of stars in the shell is the product of the number density of stars and the shell's volume:\n",
    "\n",
    "$$F_{shell}\\left(r\\right) = N_{\\star} F_{\\star}\\left(r\\right) = n_{\\star} V_{shell}\\left(r\\right) F_{\\star}\\left(r\\right) = n_{\\star}4\\pi r^2 \\Delta r \\frac{L_{\\star}}{4\\pi r^2} = n_{\\star}\\Delta r L_{\\star}$$\n",
    "\n",
    "Where $\\Delta r$ is the shell's thickness. Note that this flux is independent of the distance to it. The falloff of the flux due to the distance is compensated exactly by the increase in the number of stars in the larger shell.\n",
    "\n",
    "If we add shells up to a distance or $r_{max}$ we get:\n",
    "\n",
    "$$F_{tot} = n_{\\star} L_{\\star} r_{max}$$\n",
    "\n",
    "Now, we can add the fact that light moves at a finite speed. The time it takes it to travel a distance $r_{mas}$ is:\n",
    "\n",
    "$$t_{max} = r_{max} / c$$\n",
    "\n",
    "Substituting in the expression for the total flux of the night sky, we get:\n",
    "\n",
    "$$F_{tot} = n_{\\star} L_{\\star} c t_{max}$$\n",
    "\n",
    "In a universe that is uniformly populated by sun-like stars, and that is inifitely old, the night sky would have an infinite flux (be infinitely bright). Since that is not the case, we can use this simple model to constrain the age of the universe."
   ]
  },
  {
   "cell_type": "code",
   "execution_count": 5,
   "metadata": {},
   "outputs": [],
   "source": [
    "import astropy.units as u\n",
    "from astropy.constants import L_sun\n",
    "\n",
    "# First, let's create a function that yields the total flux of the night sky given \n",
    "# the number density of stars, their luminosity, and the age of the universe\n",
    "def F_sr(age, n_star=1*u.pc**(-3), L_star=1*L_sun):\n",
    "    '''Returns night sky flux per sterradian of uniform universe given its age, \n",
    "    stellar number density and luminosity'''\n",
    "    \n",
    "    # if arguments do not have units give them\n",
    "    if getattr(age, 'unit', None) is None:\n",
    "        age *= u.Gyr\n",
    "    if getattr(n_star, 'unit', None) is None:\n",
    "        n_star *= u.pc**(-3)\n",
    "    if getattr(L_star, 'unit', None) is None:\n",
    "        L_star *= L_sun\n",
    "    \n",
    "    # compute total flux\n",
    "    \n",
    "    # START YOUR CODE HERE (1 line of code)>>>>>>>>>>>>>>>>>>\n",
    "    F_tot = c * age * L_star * n_star\n",
    "    # >>>>>>>>>>>>>>>>>>>>>>>>>>>>>>>>>>>> END YOUR CODE HERE\n",
    "    \n",
    "    # give it proper units\n",
    "    F_tot = F_tot.to(u.W/u.m**2)\n",
    "    \n",
    "    # divide by solid angle of sky\n",
    "    F_per_sr = F_tot / 4 / pi / u.sr\n",
    "    \n",
    "    return F_per_sr"
   ]
  },
  {
   "cell_type": "code",
   "execution_count": 6,
   "metadata": {},
   "outputs": [
    {
     "data": {
      "text/latex": [
       "$147.13851 \\; \\mathrm{\\frac{W}{sr\\,m^{2}}}$"
      ],
      "text/plain": [
       "<Quantity 147.13851158 W / (m2 sr)>"
      ]
     },
     "execution_count": 6,
     "metadata": {},
     "output_type": "execute_result"
    }
   ],
   "source": [
    "# Check that the implementation of F_sr is correct\n",
    "F_sr(15*u.Gyr)"
   ]
  },
  {
   "cell_type": "markdown",
   "metadata": {},
   "source": [
    "**Expected Output**: \n",
    "<table style = \"width:40%\">\n",
    "    <tr>\n",
    "    <td>** F_sr(15*u.Gyr) **</td> \n",
    "        <td>147.13851 W / sr / m2 </td> \n",
    "    </tr>\n",
    "\n",
    "</table>"
   ]
  },
  {
   "cell_type": "code",
   "execution_count": 15,
   "metadata": {},
   "outputs": [
    {
     "data": {
      "image/png": "[encoded data removed]",
      "text/plain": [
       "<Figure size 504x360 with 2 Axes>"
      ]
     },
     "metadata": {
      "needs_background": "light"
     },
     "output_type": "display_data"
    }
   ],
   "source": [
    "# Now, let's assume that we know the lumisoty of stars pretty well, because we have the sun close to us, \n",
    "# can measure its luminosity with high accuracy, and know that all stars are alike\n",
    "\n",
    "# Unfortunately, measuring the distances to stars is much harder, so there is more uncertainty on \n",
    "# the number density of stars in the universe\n",
    "\n",
    "# We can then plot how the night sky flux depends on the number density and age of the universe\n",
    "# To do so, we evaluate the flux on a grid that covers different values for the density and age of the universe\n",
    "\n",
    "# define possible ranges for the arguments we will vary, and number of points of the grid to evaluate\n",
    "possible_n_stars = np.linspace(0.1, 2, 100)\n",
    "possible_age     = np.linspace(1, 20, 100)\n",
    "\n",
    "# create grids from ranges of values\n",
    "n_stars, ages = np.meshgrid(possible_n_stars, possible_age)\n",
    "\n",
    "# compute sky flux\n",
    "sky_flux = F_sr(ages, n_stars)\n",
    "\n",
    "# let's assume the sky flux is measured\n",
    "measurement = 140\n",
    "\n",
    "# plot result as a colormap, and in white the measured flux\n",
    "plt.rcParams.update({'font.size': 14})\n",
    "fig = plt.figure(figsize=(7,5))  # create figure, and add axes to it\n",
    "ax  = fig.add_subplot(1,1,1)\n",
    "p   = ax.pcolormesh(ages, n_stars, sky_flux, cmap='magma')   # plot function as a color map\n",
    "plt.colorbar(p, label=r\"Sky flux [W m$^{-2}$ sr$^{-1}$]\", fraction=0.046, pad=0.04)\n",
    "l   = ax.contour(ages, n_stars, sky_flux, levels=[measurement], colors='w')\n",
    "ax.set_xlabel(r\"Age of the universe [Gyr]\"), ax.set_ylabel(r\"Stellar density [pc$^{-3}$]\")  # add axis labels\n",
    "plt.tight_layout()"
   ]
  },
  {
   "cell_type": "markdown",
   "metadata": {},
   "source": [
    "Now, let's assume that the measurement of the night sky flux has an uncertainty that is negligible, and that we have some idea of what is the stellar density. The uncertainty on this parameter is larger, and can be parametrized by a normal (Gaussian) distribution, defined by its mean and standard deviation:\n",
    "\n",
    "$$n_{\\star} \\sim \\mathcal{N}\\left(\\mu, \\sigma\\right)$$\n",
    "\n",
    "Or:\n",
    "\n",
    "$$p\\left(n\\right) = \\frac{1}{\\sqrt{2\\pi}\\sigma}\\exp\\left[-\\left(\\frac{n - \\mu}{\\sigma}\\right)^2\\right]$$\n",
    "\n",
    "where \n",
    "\n",
    "$$ \\rm exp\\left[x\\right] \\equiv e^{x}$$\n",
    "\n",
    "This allows us to put constraints in the age of the universe. The inferred age of the universe would be\n",
    "\n",
    "$$t = \\frac{F_{sky}}{c L_{\\star}}\\frac{1}{n_{\\star}}$$\n",
    "\n",
    "The probability distribution for the age of the universe is then:\n",
    "\n",
    "$$p\\left(t\\right) = \\int p\\left(t | n\\right) p\\left(n\\right) dn = \\int \\delta\\left(t-\\frac{F_{sky}}{cL_{\\star}}\\frac{1}{n_{star}}\\right)\\frac{1}{\\sqrt{2\\pi}\\sigma}\\exp\\left[-\\left(\\frac{n - \\mu}{\\sigma}\\right)^2\\right] dn = \\frac{1}{\\sqrt{2\\pi}\\sigma}\\exp\\left[-\\left(\\frac{\\frac{F_{sky}}{cL_{\\star}}\\frac{1}{t}- \\mu}{\\sigma}\\right)^2\\right]$$"
   ]
  },
  {
   "cell_type": "code",
   "execution_count": 8,
   "metadata": {},
   "outputs": [],
   "source": [
    "# First, let's create a function that implements the probability density function for a Gaussian\n",
    "# distribution\n",
    "def normal_dist(x, mu=0, sigma=1):\n",
    "    '''Returns gaussian probability given mean and standard deviation'''\n",
    "    assert sigma > 0, \"Error: standard deviation has to be positive\"\n",
    "    \n",
    "    # START YOUR CODE HERE (1 line of code)>>>>>>>>>>>>>>>>>>\n",
    "    p = np.exp(-((x - mu) / sigma)**2) / np.sqrt(2*np.pi) / sigma\n",
    "    # >>>>>>>>>>>>>>>>>>>>>>>>>>>>>>>>>>>> END YOUR CODE HERE\n",
    "    \n",
    "    return p"
   ]
  },
  {
   "cell_type": "code",
   "execution_count": 9,
   "metadata": {},
   "outputs": [
    {
     "data": {
      "text/plain": [
       "0.3106965603769278"
      ]
     },
     "execution_count": 9,
     "metadata": {},
     "output_type": "execute_result"
    }
   ],
   "source": [
    "# Check that the implementation of normal_dist is correct\n",
    "normal_dist(0.5, mu=0, sigma=1)"
   ]
  },
  {
   "cell_type": "markdown",
   "metadata": {},
   "source": [
    "**Expected Output**: \n",
    "<table style = \"width:50%\">\n",
    "    <tr>\n",
    "    <td>** normal_dist(0.5, mu=0, sigma=1) **</td> \n",
    "        <td>0.3106965603769278</td> \n",
    "    </tr>\n",
    "\n",
    "</table>"
   ]
  },
  {
   "cell_type": "code",
   "execution_count": 10,
   "metadata": {},
   "outputs": [],
   "source": [
    "# Let's create two helper functions derived from the formula for the flux\n",
    "\n",
    "def stellar_density(age, sky_flux=100*u.W/u.m**2/u.sr, L_star=1*L_sun):\n",
    "    '''Returns stellar density given age of the universe, sky_flux, stellar luminosity'''\n",
    "    if getattr(age, 'unit', None) is None:\n",
    "        age *= u.Gyr\n",
    "    if getattr(sky_flux, 'unit', None) is None:\n",
    "        sky_flux *= u.W / u.m**2 / u.sr\n",
    "    if getattr(L_star, 'unit', None) is None:\n",
    "        L_star *= L_sun\n",
    "        \n",
    "    # START YOUR CODE HERE (1 line of code)>>>>>>>>>>>>>>>>>>\n",
    "    n_star = sky_flux * 4 * np.pi / c / L_star / age\n",
    "    # >>>>>>>>>>>>>>>>>>>>>>>>>>>>>>>>>>>> END YOUR CODE HERE\n",
    "    \n",
    "    # remove sr from units\n",
    "    n_star  = n_star.to(u.pc**(-3)/u.sr).value\n",
    "    n_star *= u.pc**(-3)\n",
    "    \n",
    "    return n_star\n",
    "\n",
    "def age(n_star, sky_flux=100*u.W/u.m**2/u.sr, L_star=1*L_sun):\n",
    "    '''Returns stellar density given age of the universe, sky_flux, stellar luminosity'''\n",
    "    if getattr(n_star, 'unit', None) is None:\n",
    "        n_star /= u.pc**3\n",
    "    if getattr(sky_flux, 'unit', None) is None:\n",
    "        sky_flux *= u.W / u.m**2 / u.sr\n",
    "    if getattr(L_star, 'unit', None) is None:\n",
    "        L_star *= L_sun\n",
    "        \n",
    "    age = sky_flux * 4 * np.pi / c / L_star / n_star\n",
    "    \n",
    "    # remove sr from units\n",
    "    \n",
    "    # START YOUR CODE HERE (2 lines of code)>>>>>>>>>>>>>>>>>>\n",
    "    age  = age.to(u.Gyr/u.sr).value\n",
    "    age *= u.Gyr\n",
    "    # >>>>>>>>>>>>>>>>>>>>>>>>>>>>>>>>>>>> END YOUR CODE HERE\n",
    "    \n",
    "    return age"
   ]
  },
  {
   "cell_type": "code",
   "execution_count": 11,
   "metadata": {},
   "outputs": [
    {
     "data": {
      "text/latex": [
       "$0.67963172 \\; \\mathrm{\\frac{1}{pc^{3}}}$"
      ],
      "text/plain": [
       "<Quantity 0.67963172 1 / pc3>"
      ]
     },
     "execution_count": 11,
     "metadata": {},
     "output_type": "execute_result"
    }
   ],
   "source": [
    "# Check that the implementation of stellar_density is correct\n",
    "stellar_density(15*u.Gyr, sky_flux=100*u.W/u.m**2/u.sr, L_star=1*L_sun)"
   ]
  },
  {
   "cell_type": "markdown",
   "metadata": {},
   "source": [
    "**Expected Output**: \n",
    "<table style = \"width:100%\">\n",
    "    <tr>\n",
    "    <td>** stellar_density(15*u.Gyr, sky_flux=100*u.W/u.m**2/u.sr, L_star=1*L_sun) **</td> \n",
    "        <td>0.67963172 / pc3</td> \n",
    "    </tr>\n",
    "\n",
    "</table>"
   ]
  },
  {
   "cell_type": "code",
   "execution_count": 12,
   "metadata": {},
   "outputs": [
    {
     "data": {
      "text/latex": [
       "$10.194476 \\; \\mathrm{Gyr}$"
      ],
      "text/plain": [
       "<Quantity 10.19447583 Gyr>"
      ]
     },
     "execution_count": 12,
     "metadata": {},
     "output_type": "execute_result"
    }
   ],
   "source": [
    "# Check that the implementation of age is correct\n",
    "age(1.0*u.pc**(-3), sky_flux=100*u.W/u.m**2/u.sr, L_star=1*L_sun)"
   ]
  },
  {
   "cell_type": "markdown",
   "metadata": {},
   "source": [
    "**Expected Output**: \n",
    "<table style = \"width:100%\">\n",
    "    <tr>\n",
    "    <td>** age(1.0*u.pc**(-3), sky_flux=100*u.W/u.m**2/u.sr, L_star=1*L_sun) **</td> \n",
    "        <td>10.194476Gyr</td> \n",
    "    </tr>\n",
    "\n",
    "</table>"
   ]
  },
  {
   "cell_type": "code",
   "execution_count": 13,
   "metadata": {},
   "outputs": [
    {
     "data": {
      "image/png": "[encoded data removed]",
      "text/plain": [
       "<Figure size 720x360 with 2 Axes>"
      ]
     },
     "metadata": {
      "needs_background": "light"
     },
     "output_type": "display_data"
    }
   ],
   "source": [
    "# Finally, let's see how uncertainty in the measurement of the stellar density translates into\n",
    "# uncertainty in the estimation for the age of the universe\n",
    "\n",
    "# The measured sky flux is\n",
    "measured_flux = 150 * u.W / u.m**2 / u.sr\n",
    "    \n",
    "# Let's define the stellar density measurement\n",
    "n_star_mu    = 1.0 / u.pc**(3)\n",
    "n_star_sigma = 0.1 / u.pc**(3)\n",
    "\n",
    "# Compute the probability density function within 3 sigmas\n",
    "ns  = np.linspace(n_star_mu - 3 * n_star_sigma, n_star_mu + 3 * n_star_sigma, 100)\n",
    "p_n = normal_dist(ns, n_star_mu, n_star_sigma)\n",
    "\n",
    "# Compute the ages that correspond to the extreme values of n_star\n",
    "t_min = age(n_star_mu + 3 * n_star_sigma, measured_flux)\n",
    "t_avg = age(n_star_mu , measured_flux)\n",
    "t_max = age(n_star_mu - 3 * n_star_sigma, measured_flux)\n",
    "\n",
    "ages = np.linspace(t_min, t_max, 100)\n",
    "xs   = (measured_flux * 4 * np.pi * u.sr / c / L_sun / ages).to(u.pc**(-3))\n",
    "p_t  = normal_dist(xs, n_star_mu, n_star_sigma)\n",
    "\n",
    "\n",
    "# plot how the stellar density measurement transforms into a universe age estimate\n",
    "fig = plt.figure(figsize=(10, 5))\n",
    "\n",
    "ax = fig.add_subplot(1,2,1)\n",
    "ax.plot(ns, p_n)\n",
    "ax.axvline(n_star_mu.value, linestyle=':')\n",
    "ax.set_xlabel(r\"$n_{\\star}$ [pc$^{-3}$]\"), ax.set_ylabel(r\"$p(n_{\\star})$\")\n",
    "ax.set_title(r\"Stellar density probability\")\n",
    "\n",
    "ax = fig.add_subplot(1,2,2)\n",
    "ax.plot(ages, p_t)\n",
    "ax.axvline(t_avg.value, linestyle=':')\n",
    "ax.set_xlabel(r\"Age [Gyr]\"), ax.set_ylabel(r\"$p(Age)$\")\n",
    "ax.set_title(r\"Universe age probability\")\n",
    "\n",
    "plt.tight_layout()"
   ]
  },
  {
   "cell_type": "markdown",
   "metadata": {},
   "source": [
    "+ Note that a probability distribution that is symmetric for the error in the estimation of the stellar density, propagates into a non-symmetric distribution for the uncertainty in the age of the universe. This can be understool looking at the degeneracy between both parameters (see color map a few cells above with the white cut representing allowed values by the measured nigth sky flux)"
   ]
  },
  {
   "cell_type": "code",
   "execution_count": 14,
   "metadata": {},
   "outputs": [
    {
     "data": {
      "application/vnd.jupyter.widget-view+json": {
       "model_id": "e73ea3d6a2654750b5e427c2385a0f61",
       "version_major": 2,
       "version_minor": 0
      },
      "text/plain": [
       "interactive(children=(FloatSlider(value=1.5, description='n_star_mu', max=2.0, min=1.0, step=0.05), FloatSlide…"
      ]
     },
     "metadata": {},
     "output_type": "display_data"
    }
   ],
   "source": [
    "# This cell does the same as the previous one, but creates an interactive plot that can be\n",
    "# used to visualize the relationship. Feel free to edit and play around, moving the sliders\n",
    "# on the interactive plot\n",
    "\n",
    "# The measured sky flux is\n",
    "measured_flux = 150 * u.W / u.m**2 / u.sr\n",
    "\n",
    "# Define the values for the parameters we want to visualize, as well as the step\n",
    "# between values\n",
    "n_steps              = 20\n",
    "n_min, n_max         = 1.0, 2.0\n",
    "n_step               = (n_max - n_min) / n_steps\n",
    "n_err_min, n_err_max = 0.01, 0.2\n",
    "n_err_step           = (n_err_max - n_err_min) / n_steps\n",
    "\n",
    "# Compute the max age range to fix x-axis\n",
    "age_min = age(n_max + 3 * n_err_max, measured_flux)\n",
    "age_max = age(n_min - 3 * n_err_max, measured_flux)\n",
    "\n",
    "def f(n_star_mu, n_star_sigma):\n",
    "    # Add units to inputs\n",
    "    n_star_mu    *= u.pc**(-3)\n",
    "    n_star_sigma *= u.pc**(-3)\n",
    "    \n",
    "    # Compute the probability density function within 3 sigmas for the stellar density\n",
    "    ns  = np.linspace(n_star_mu - 3 * n_star_sigma, n_star_mu + 3 * n_star_sigma, 100)\n",
    "    p_n = normal_dist(ns, n_star_mu, n_star_sigma)\n",
    "    \n",
    "    # Compute the ages that correspond to the extreme values of n_star\n",
    "    t_min = age(n_star_mu + 3 * n_star_sigma, measured_flux)\n",
    "    t_avg = age(n_star_mu , measured_flux)\n",
    "    t_max = age(n_star_mu - 3 * n_star_sigma, measured_flux)\n",
    "    \n",
    "    # Compute the probability density function for the age of the universe\n",
    "    ages = np.linspace(t_min, t_max, 100)\n",
    "    xs   = (measured_flux * 4 * np.pi * u.sr / c / L_sun / ages).to(u.pc**(-3))\n",
    "    p_t  = normal_dist(xs, n_star_mu, n_star_sigma)\n",
    "    \n",
    "    # Plot\n",
    "    plt.rcParams.update({'font.size': 14})\n",
    "    fig = plt.figure(figsize=(15,5))\n",
    "    ax  = fig.add_subplot(1,2,1)\n",
    "    ax.plot(ns, p_n)\n",
    "    ax.axvline(n_star_mu.value, linestyle=':')\n",
    "    ax.set_xlim((n_min - 3 * n_err_max, n_max + 3 * n_err_max))\n",
    "    ax.set_xlabel(r\"$n_{\\star}$ [pc$^{-3}$]\"), ax.set_ylabel(r\"$p(n_{\\star})$\")\n",
    "    ax.set_title(r\"Stellar density probability\")\n",
    "    \n",
    "    ax  = fig.add_subplot(1,2,2)\n",
    "    ax.plot(ages, p_t)\n",
    "    ax.axvline(t_avg.value, linestyle=':')\n",
    "    ax.set_xlim((age_min.value, age_max.value))\n",
    "    ax.set_xlabel(r\"Age [Gyr]\"), ax.set_ylabel(r\"$p(Age)$\")\n",
    "    ax.set_title(r\"Universe's age probability\")\n",
    "    \n",
    "    plt.tight_layout()\n",
    "    \n",
    "    plt.show()\n",
    "\n",
    "# Output interactive plot\n",
    "interactive_plot = interactive(f, n_star_mu=(n_min, n_max, n_step), n_star_sigma=(n_err_min, n_err_max, n_err_step))\n",
    "output = interactive_plot.children[-1]\n",
    "output.layout.height = '350px'\n",
    "interactive_plot\n",
    "\n"
   ]
  },
  {
   "cell_type": "code",
   "execution_count": null,
   "metadata": {},
   "outputs": [],
   "source": []
  }
 ],
 "metadata": {
  "kernelspec": {
   "display_name": "Python 3",
   "language": "python",
   "name": "python3"
  },
  "language_info": {
   "codemirror_mode": {
    "name": "ipython",
    "version": 3
   },
   "file_extension": ".py",
   "mimetype": "text/x-python",
   "name": "python",
   "nbconvert_exporter": "python",
   "pygments_lexer": "ipython3",
   "version": "3.8.3"
  }
 },
 "nbformat": 4,
 "nbformat_minor": 4
}
