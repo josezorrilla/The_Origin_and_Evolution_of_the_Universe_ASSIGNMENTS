{
 "cells": [
  {
   "cell_type": "markdown",
   "metadata": {},
   "source": [
    "# BBN mass fractions\n",
    "\n",
    "+ As we mentioned in class, computing the mass fraction of different chemical compositions require solving a series of equations to account for the different nuclear reactions that can be happening at the same time, these codes are called Boltzmann codes (for their solve Boltzmann's equations), and they can take some time to run.\n",
    "\n",
    "+ Here we are just going to use a Python library that, among other functionalities, interpolates from a pre-computed table using one such code.\n",
    "\n",
    "+ Just go over the code, line-by-line, to make sure you understand what is going on.\n",
    "\n",
    "+ Finally, play around with the visualization to understand how we can use the predictions from BBN models for cosmology."
   ]
  },
  {
   "cell_type": "code",
   "execution_count": 1,
   "metadata": {},
   "outputs": [],
   "source": [
    "# First, we will import here all the libraries that we will need\n",
    "from camb.bbn import BBN_table_interpolator   # interpolator class to get mass fractions\n",
    "import numpy as np                            # library to work with array\n",
    "from ipywidgets import interactive            # library to build an interactive plot (with sliders)\n",
    "import matplotlib                             # library for plotting\n",
    "import matplotlib.pyplot as plt               # library for plotting\n",
    "\n",
    "# plots to show within the cells, not in a new window\n",
    "%matplotlib inline                            "
   ]
  },
  {
   "cell_type": "code",
   "execution_count": 2,
   "metadata": {},
   "outputs": [],
   "source": [
    "# Let's instantiate the interpolator\n",
    "# if you look at the documentation here: https://camb.readthedocs.io/en/latest/bbn.html\n",
    "# you will see there are three tables:\n",
    "tables = ['PArthENoPE_880.2_standard.dat', 'PArthENoPE_880.2_marcucci.dat', 'PRIMAT_Yp_DH_Error.dat']\n",
    "\n",
    "# Pick one, start the interpolator\n",
    "bbn = BBN_table_interpolator(interpolation_table=tables[0])\n",
    "\n",
    "# The table has a relatively low range of densities\n",
    "# see here: https://arxiv.org/pdf/0705.0290.pdf\n",
    "# The critical density depends on Omega_b H_0^2\n",
    "# but the nuclear reactions depend on the physical density\n",
    "# as a result, we cannot determine Omega_b but Omega_b H_0^2\n",
    "# or Omega_b h^2, with H_0 = 100 h\n",
    "\n",
    "ombh2_s = np.linspace(0.01, 0.03, 100)   # 100 points between 0.01 and 0.03 limits in the table\n",
    "\n",
    "# The other factor that affects the result is the cooling rate\n",
    "# which depends on the expansion rate of the universe. As the universe is radiation-dominated\n",
    "# the expansion rate depends on how many relativistic species there is\n",
    "# we know there are photons, which are well defined by the CMB temperature\n",
    "# we also know there are 3 species of neutrinos. If there were other, unkwon neutrino-like\n",
    "# particles, these could be determined by measuring the abundance of elements\n",
    "\n",
    "# Let's define a plotting function\n",
    "\n",
    "def plotting(delta_neff):\n",
    "    # Compute the mass fractions\n",
    "    X_He = [bbn.Y_He(ombh2, delta_neff=delta_neff) for ombh2 in ombh2_s]   # Helium\n",
    "    X_D  = [bbn.DH(  ombh2, delta_neff=delta_neff) for ombh2 in ombh2_s]   # Deuterium\n",
    "    \n",
    "    # Make the plot\n",
    "    matplotlib.rcParams.update({'font.size': 18})   # make the font in the plot bigger\n",
    "    fig = plt.figure(figsize=(10,7))                # create a figure, define its size\n",
    "    ax  = fig.add_subplot(1,1,1)                    # add axes to the figure, single axes set\n",
    "    \n",
    "    # Plot mass fractions as a function of omega_b h^2\n",
    "    ax.plot(ombh2_s, X_He,  'k-', linewidth=4, label=r'He')  # He, black solid line\n",
    "    ax.plot(ombh2_s, X_D,   'b-', linewidth=4, label=r'D')   # D,  blue solid line\n",
    "    \n",
    "    # Format the plot\n",
    "    ax.set_yscale('log')   # since the fractions are so different, better to use a logarithmic scale\n",
    "    ax.set_ylim((1e-6,1))  # set limits in y-axis to make it similar to plot shown in class\n",
    "    ax.legend(loc=3)       # add a legend\n",
    "    ax.grid()              # add a grid\n",
    "    ax.set_xlabel(r\"$\\Omega_b h^2$\"), ax.set_ylabel(r\"Mass fraction\")   # add labels to axes\n",
    "    plt.tight_layout()     # use full space for the plot\n",
    "    plt.show()             # display plot, allows updates\n",
    "    \n",
    "# not that this function does not require a 'return' statement"
   ]
  },
  {
   "cell_type": "code",
   "execution_count": 3,
   "metadata": {},
   "outputs": [
    {
     "data": {
      "application/vnd.jupyter.widget-view+json": {
       "model_id": "f3014fbf9c8242a392deb59fef3a246e",
       "version_major": 2,
       "version_minor": 0
      },
      "text/plain": [
       "interactive(children=(IntSlider(value=6, description='delta_neff', max=15, min=-3), Output()), _dom_classes=('…"
      ]
     },
     "metadata": {},
     "output_type": "display_data"
    }
   ],
   "source": [
    "# Define the values that the slider will show\n",
    "delta_neff_min = -3   # no neutrinos\n",
    "delta_neff_max = 15   # lots of new unkown particles\n",
    "step           = 1    # jump in steps of ones\n",
    "\n",
    "# Now we can call the interactive plot\n",
    "interactive_plot = interactive(plotting, delta_neff=(delta_neff_min, delta_neff_max, step))\n",
    "output           = interactive_plot.children[-1]\n",
    "interactive_plot"
   ]
  },
  {
   "cell_type": "markdown",
   "metadata": {},
   "source": [
    "+ Note that, as we discussed in class, Deuterium is more sensitive than Helium as a probe for cosmology.\n",
    "\n",
    "+ The mass fraction is small, though (see the log scale!), as a result any measurement will be challenging.\n",
    "\n",
    "+ There are two ways we can use such a measurement:\n",
    "    1. If we know how many relativistic particles there is in the universe, we can use it to determine the baryon density of the universe. See how as density increases, more neutrons end up captured in He nuclei\n",
    "    2. If we can determine the baryon density through other means, we can use the measurement to determine if there are any other unknown relativistic particles (neutrino-like). See how as the number of relativistic particles increases so does the Hubble parameter, and the mass fractions increase (faster expansion allows for formation of nuclei before a significant fraction of neutrons decay)."
   ]
  },
  {
   "cell_type": "code",
   "execution_count": null,
   "metadata": {},
   "outputs": [],
   "source": []
  }
 ],
 "metadata": {
  "kernelspec": {
   "display_name": "Python 3",
   "language": "python",
   "name": "python3"
  },
  "language_info": {
   "codemirror_mode": {
    "name": "ipython",
    "version": 3
   },
   "file_extension": ".py",
   "mimetype": "text/x-python",
   "name": "python",
   "nbconvert_exporter": "python",
   "pygments_lexer": "ipython3",
   "version": "3.8.5"
  }
 },
 "nbformat": 4,
 "nbformat_minor": 4
}
