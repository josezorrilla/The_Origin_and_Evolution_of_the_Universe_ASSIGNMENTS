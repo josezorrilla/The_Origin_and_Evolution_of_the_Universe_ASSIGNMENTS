{
 "cells": [
  {
   "cell_type": "markdown",
   "metadata": {},
   "source": [
    "# Instructions\n",
    "\n",
    "Read carefully all the content in the cells, including the comments in the code cells\n",
    "\n",
    "Some lines of code have been removed. You are asked to fill in the gaps.\n",
    "\n",
    "Only modify lines that are between the following promts:\n",
    "\n",
    "'# START YOUR CODE HERE >>>>>>>>>>>>>>>>>>>>>>>>>>>>>>>>>>\n",
    "\n",
    "'# >>>>>>>>>>>>>>>>>>>>>>>>>>>>>>>>>>>> END YOUR CODE HERE\n",
    "\n",
    "After each cell there will be a test cell that will allow you to be confident you will be able to continue with the execution of the notebook.\n",
    "\n",
    "Here's an example"
   ]
  },
  {
   "cell_type": "code",
   "execution_count": 1,
   "metadata": {
    "ExecuteTime": {
     "end_time": "2021-02-28T17:36:56.072271Z",
     "start_time": "2021-02-28T17:36:56.068707Z"
    }
   },
   "outputs": [],
   "source": [
    "# This is just a test to illustrate how we will do exercises with jupyter notebooks\n",
    "\n",
    "# This function adds two numbers and prints the result\n",
    "# Please fill in the gaps\n",
    "\n",
    "def print_sum(a,b):\n",
    "    \n",
    "    # START YOUR CODE HERE (1 line of code)>>>>>>>>>>>>>>>>>>\n",
    "    c = a \n",
    "    c = c + b\n",
    "    # >>>>>>>>>>>>>>>>>>>>>>>>>>>>>>>>>>>> END YOUR CODE HERE\n",
    "    \n",
    "    print(c)\n",
    "    \n",
    "    return"
   ]
  },
  {
   "cell_type": "code",
   "execution_count": 2,
   "metadata": {
    "ExecuteTime": {
     "end_time": "2021-02-28T17:36:57.344195Z",
     "start_time": "2021-02-28T17:36:57.340036Z"
    }
   },
   "outputs": [
    {
     "name": "stdout",
     "output_type": "stream",
     "text": [
      "3\n"
     ]
    }
   ],
   "source": [
    "# Run this cell to check that the above implementation is correct\n",
    "print_sum(1,2)"
   ]
  },
  {
   "cell_type": "markdown",
   "metadata": {},
   "source": [
    "**Expected Output**: \n",
    "<table style = \"width:40%\">\n",
    "    <tr>\n",
    "    <td>** print_sum(1,2) **</td> \n",
    "        <td>3 </td> \n",
    "    </tr>\n",
    "\n",
    "</table>"
   ]
  },
  {
   "cell_type": "markdown",
   "metadata": {},
   "source": [
    "# Cosmography\n",
    "\n",
    "In this notebook we are going to implement some functions to compute the obsevables we have discussed during the lecture.\n",
    "\n",
    "To do so, we will expand the cosmology class we started coding in the previous class.\n",
    "\n",
    "We will start by reviewing the implementation we had, which allowed us to compute the age of the universe.\n",
    "\n",
    "We will add a couple of attributes to the cosmology that will make our code cleaner: the Hubble time and distance:\n",
    "\n",
    "$$t_H = \\frac{1}{H_0}$$\n",
    "$$D_H = \\frac{c}{H_0}$$\n",
    "\n",
    "These characteristic time and distance are relevant, because all the times and distances we will compute scale with them. Also, they can be directly measured through the Hubble constant, and they will allow to handle units easily (we can compute dimensionless quantities, and then give them units by multiplying them by the appropriate characteristic quantity).\n",
    "\n",
    "We will also add a very simple function to compute the look back time to a galaxy. When a piece of news reports that atronomers have observed light comming from a galaxy many millions of years ago, they refer to the look back time. It is just the difference between the age of the univese when the light is collected (today) and the age of the universe when the light was emitted:\n",
    "\n",
    "$$t_{lookback} = t_{reception} - t_{emission}$$\n",
    "\n",
    "Use the age function in the cosmology class to implement that function"
   ]
  },
  {
   "cell_type": "code",
   "execution_count": 3,
   "metadata": {
    "ExecuteTime": {
     "end_time": "2021-02-28T17:36:59.449550Z",
     "start_time": "2021-02-28T17:36:58.699861Z"
    }
   },
   "outputs": [],
   "source": [
    "import astropy.units as u           # we will use this library to handle units\n",
    "from astropy.constants import c     # speeed of light\n",
    "from scipy.integrate import quad    # only needed if we use quad function for integral\n",
    "import numpy as np\n",
    "\n",
    "class FLRWcosmo:\n",
    "    '''Class for cosmological model representing a uniform and isotropic universe described by GR'''\n",
    "    \n",
    "    def __init__(self, Om_0, Or_0, Ol_0, H_0=72*u.km/u.s/u.Mpc):\n",
    "        # Since the uncertainty on the Hubble constant is not too big, we can \n",
    "        # add a default value for it\n",
    "        # Feel free to modify the class and add default values for your favourite model\n",
    "        self.Om_0 = Om_0\n",
    "        self.Or_0 = Or_0\n",
    "        self.Ol_0 = Ol_0\n",
    "        self.Ok_0 = 1 - self.Om_0 - self.Or_0 - self.Ol_0\n",
    "        self.H_0  = H_0\n",
    "        \n",
    "        # Derived parameters that will be used to normalize distances\n",
    "#        from astropy.constants import c\n",
    "        self.t_H = (1 / self.H_0).to(u.Gyr).value     # Hubble time in Gyr\n",
    "        self.D_H = (c / self.H_0).to(u.Mpc).value   # Hubble radius in Mpc\n",
    "        \n",
    "    # Scaling of enery densities per component at scale factor a\n",
    "    def Om(self, a):\n",
    "        '''Non-relativistic matter energy density in units of critical density at a=1'''       \n",
    "        omega_m = self.Om_0 / a**3 \n",
    "        return omega_m\n",
    "    \n",
    "    def Or(self, a):\n",
    "        '''Radiation energy density in units of critical density at a=1'''\n",
    "        omega_r = self.Or_0 / a**4\n",
    "        return omega_r\n",
    "    \n",
    "    def Ol(self, a):\n",
    "        '''Cosmological constant energy density in unist of critical density at a=1'''\n",
    "        omega_l = self.Ol_0 \n",
    "        return omega_l\n",
    "    \n",
    "    def Ok(self, a):\n",
    "        '''Curvature energy density in units of critical density at a=1'''\n",
    "        omega_k = self.Ok_0 / a**2\n",
    "        return omega_k\n",
    "    \n",
    "    def Omega(self, a):\n",
    "        '''Total energy density in units of critical density at a=1'''\n",
    "        omega = self.Om(a) + self.Or(a) + self.Ol(a) + self.Ok(a)\n",
    "        return omega\n",
    "    \n",
    "    def E(self, a):\n",
    "        '''Square root of energy density, enters Friedmann's equation'''\n",
    "        \n",
    "        E = self.Omega(a)**0.5\n",
    "        \n",
    "        return E\n",
    "    \n",
    "    # Ages\n",
    "    def age(self, a):\n",
    "        '''Age of the universe, in Gyr by integrating the Friedman's equation'''\n",
    "        \n",
    "        # implement the integral for chi\n",
    "        def integrand(x):\n",
    "            '''Computes the integrand, for chi given scale factor x'''\n",
    "            \n",
    "            integ = 1 / x / self.E(x)\n",
    "            \n",
    "            return integ\n",
    "        \n",
    "        # perform the integral\n",
    "        \n",
    "        chi = quad(integrand, 0, a)[0]\n",
    "        \n",
    "        # scale with Hubble time, bringing back units in Gyr\n",
    "        \n",
    "        age = self.t_H * chi\n",
    "        \n",
    "        return age\n",
    "    \n",
    "    def look_back_time(self, a):\n",
    "        '''Returns lookback time to an object at scale factor a'''\n",
    "        \n",
    "        # START YOUR CODE HERE (2 lines of code)>>>>>>>>>>>>>>>>>>\n",
    "        t_0 = self.age(1)\n",
    "        t_e = self.age(a)\n",
    "        # >>>>>>>>>>>>>>>>>>>>>>>>>>>>>>>>>>>> END YOUR CODE HERE\n",
    "        \n",
    "        return t_0 - t_e"
   ]
  },
  {
   "cell_type": "code",
   "execution_count": 4,
   "metadata": {
    "ExecuteTime": {
     "end_time": "2021-02-28T17:36:59.456624Z",
     "start_time": "2021-02-28T17:36:59.451715Z"
    }
   },
   "outputs": [
    {
     "name": "stdout",
     "output_type": "stream",
     "text": [
      "7.5010220867877795\n"
     ]
    }
   ],
   "source": [
    "# Now let's test the implementation:\n",
    "cosmo = FLRWcosmo(Om_0=0.3, Or_0=0, Ol_0=0.7)\n",
    "print(cosmo.look_back_time(0.5))"
   ]
  },
  {
   "cell_type": "markdown",
   "metadata": {},
   "source": [
    "**Expected Output**: \n",
    "<table style = \"width:40%\">\n",
    "    <tr>\n",
    "    <td>** print(cosmo.look_back_time(0.5)) **</td> \n",
    "        <td> 7.5010220867877795 </td> \n",
    "    </tr>\n",
    "\n",
    "</table>"
   ]
  },
  {
   "cell_type": "code",
   "execution_count": 5,
   "metadata": {
    "ExecuteTime": {
     "end_time": "2021-02-28T17:37:02.048694Z",
     "start_time": "2021-02-28T17:37:01.516067Z"
    }
   },
   "outputs": [
    {
     "name": "stdout",
     "output_type": "stream",
     "text": [
      "Age of the universe is 13.088189136108339 Gyr\n"
     ]
    },
    {
     "data": {
      "image/png": "[encoded data removed]",
      "text/plain": [
       "<Figure size 720x360 with 1 Axes>"
      ]
     },
     "metadata": {
      "needs_background": "light"
     },
     "output_type": "display_data"
    }
   ],
   "source": [
    "# Let's see how the look back time changes with redshift\n",
    "# Most galaxies exhibit moderate values for redshift\n",
    "# The most distant galaxy we know has a redshift of 11.1\n",
    "import numpy as np\n",
    "import matplotlib\n",
    "import matplotlib.pyplot as plt\n",
    "%matplotlib inline\n",
    "\n",
    "# Get an array with the scale factors we want to compute the lookback time to\n",
    "redshifts = np.linspace(0, 10, 100)\n",
    "scale_factors = 1 / (1 + redshifts)\n",
    "\n",
    "# Initialize a cosmology with some reasonable parameters\n",
    "cosmo = FLRWcosmo(Om_0=0.3,  Or_0=8.4e-5, Ol_0=0.7, H_0=72 * u.km / u.s / u.Mpc)\n",
    "\n",
    "# Compute the lookback times to those scale factors\n",
    "# START YOUR CODE HERE (1 line of code)>>>>>>>>>>>>>>>>>>\n",
    "tlooks = np.array([cosmo.look_back_time(a) for a in scale_factors])\n",
    "# >>>>>>>>>>>>>>>>>>>>>>>>>>>>>>>>>>>> END YOUR CODE HERE\n",
    "current_age = cosmo.age(1)\n",
    "print(\"Age of the universe is {} Gyr\".format(current_age))\n",
    "\n",
    "# Make a plot\n",
    "matplotlib.rcParams.update({'font.size': 18})\n",
    "fig = plt.figure(figsize=(10,5))\n",
    "ax  = fig.add_subplot(1,1,1)\n",
    "ax.plot(redshifts, tlooks, linewidth=4)\n",
    "ax.axhline(current_age)\n",
    "ax.set_xlabel(r\"Redshift\"), ax.set_ylabel(r\"Look back time [Gyrs]\")\n",
    "ax.grid()\n",
    "plt.tight_layout()"
   ]
  },
  {
   "cell_type": "code",
   "execution_count": 6,
   "metadata": {
    "ExecuteTime": {
     "end_time": "2021-02-28T17:37:03.364035Z",
     "start_time": "2021-02-28T17:37:03.176486Z"
    }
   },
   "outputs": [
    {
     "data": {
      "image/png": "[encoded data removed]",
      "text/plain": [
       "<Figure size 720x360 with 1 Axes>"
      ]
     },
     "metadata": {
      "needs_background": "light"
     },
     "output_type": "display_data"
    }
   ],
   "source": [
    "# Often tines, the newspapers like to say things like \"The univserse had only 10% of its age\"\n",
    "# when the light left that galaxy\n",
    "\n",
    "# We can also plot that quantity\n",
    "age = cosmo.age(1)\n",
    "ages = np.array([cosmo.age(a) for a in scale_factors])\n",
    "percent_ages = 100 * ages / age\n",
    "\n",
    "# Make a plot\n",
    "matplotlib.rcParams.update({'font.size': 18})\n",
    "fig = plt.figure(figsize=(10,5))\n",
    "ax  = fig.add_subplot(1,1,1)\n",
    "ax.plot(redshifts, percent_ages, linewidth=4)\n",
    "ax.set_xlabel(r\"Redshift\"), ax.set_ylabel(r\"Age of the universe at tine of emission [%]\")\n",
    "ax.grid()\n",
    "plt.tight_layout()"
   ]
  },
  {
   "cell_type": "markdown",
   "metadata": {},
   "source": [
    "## Distances\n",
    "\n",
    "Let's start implementing distances, we will follow this paper for reference:\n",
    "\n",
    "https://arxiv.org/pdf/astro-ph/9905116.pdf\n",
    " \n",
    "You may want to have it opened in a tab for reference.\n",
    "\n",
    "We will start with the comoving radial distance (line-of-sight according to Hogg's paper). The equation from Hoog's reads:\n",
    "\n",
    "$$D_C = D_H \\int_0^z \\frac{dz}{E(z)}$$\n",
    "\n",
    "We will use the scale factor as a variable, not the redshift (the choice is not that important), so we need to change variables.\n",
    "\n",
    "Remember from the lectures, that from the definition of redshift:\n",
    "\n",
    "$$dz = - \\frac{da}{a^2}$$\n",
    "\n",
    "And so, the above equation turns into:\n",
    "\n",
    "$$D_C = D_H \\int_1^a \\frac{da}{a^2E(a)}$$\n",
    "\n",
    "To compute it, we just need to do the integral, and then multiply the result by the Hubble distance, which we have already added to the class as an attribute.\n",
    "\n",
    "We are going to avoid creating our own integration function (the less you code yourself, the fewer bugs your code will have, always try to re-use tested libraries whenever possible). You can use the quad function in the scipy library:\n",
    "\n",
    "https://docs.scipy.org/doc/scipy/reference/generated/scipy.integrate.quad.html\n",
    "\n",
    "Since the functions we are going to integrate are quite simple, we can make our code very compact using what in Python are called \"lambda\" functions. These are functions that are defined when they are needed, in a line, and we do not give them name (we will not call them anywhere else. The syntax is:\n",
    "\n",
    "lambda variable : f(variable)"
   ]
  },
  {
   "cell_type": "code",
   "execution_count": 7,
   "metadata": {
    "ExecuteTime": {
     "end_time": "2021-02-28T17:37:04.793743Z",
     "start_time": "2021-02-28T17:37:04.787051Z"
    }
   },
   "outputs": [
    {
     "name": "stdout",
     "output_type": "stream",
     "text": [
      "True\n"
     ]
    }
   ],
   "source": [
    "# This is an example of how to use lambdas\n",
    "# These are equivalent implementations:\n",
    "\n",
    "def add_constant(x, constant):\n",
    "    return x + constant\n",
    "\n",
    "def square_after_adding_constant(x, constant):\n",
    "    return add_constant(x, constant)**2\n",
    "\n",
    "def square_after_adding_constant_bis(x, constant):\n",
    "    y = lambda a : a + constant\n",
    "    return y(x)**2\n",
    "\n",
    "# Check that you get the same result\n",
    "print(square_after_adding_constant(1,1) == square_after_adding_constant_bis(1,1))"
   ]
  },
  {
   "cell_type": "markdown",
   "metadata": {},
   "source": [
    "If the use of lambda is confusing, or you find the use of the quad function confusing, feel free to implement\n",
    "the above formula in any way that works for you"
   ]
  },
  {
   "cell_type": "code",
   "execution_count": 8,
   "metadata": {
    "ExecuteTime": {
     "end_time": "2021-02-28T17:37:06.717867Z",
     "start_time": "2021-02-28T17:37:06.705089Z"
    }
   },
   "outputs": [],
   "source": [
    "import astropy.units as u           # we will use this library to handle units\n",
    "from astropy.constants import c     # speeed of light\n",
    "from scipy.integrate import quad    # only needed if we use quad function for integral\n",
    "import numpy as np\n",
    "\n",
    "class FLRWcosmo:\n",
    "    '''Class for cosmological model representing a uniform and isotropic universe described by GR'''\n",
    "    \n",
    "    def __init__(self, Om_0, Or_0, Ol_0, H_0=72*u.km/u.s/u.Mpc):\n",
    "        # Since the uncertainty on the Hubble constant is not too big, we can \n",
    "        # add a default value for it\n",
    "        # Feel free to modify the class and add default values for your favourite model\n",
    "        self.Om_0 = Om_0\n",
    "        self.Or_0 = Or_0\n",
    "        self.Ol_0 = Ol_0\n",
    "        self.Ok_0 = 1 - self.Om_0 - self.Or_0 - self.Ol_0\n",
    "        self.H_0  = H_0\n",
    "        \n",
    "        # Derived parameters that will be used to normalize distances\n",
    "#        from astropy.constants import c\n",
    "        self.t_H = (1 / self.H_0).to(u.Gyr).value     # Hubble time in Gyr\n",
    "        self.D_H = (c / self.H_0).to(u.Mpc).value   # Hubble radius in Mpc\n",
    "        \n",
    "    # Scaling of enery densities per component at scale factor a\n",
    "    def Om(self, a):\n",
    "        '''Non-relativistic matter energy density in units of critical density at a=1'''       \n",
    "        omega_m = self.Om_0 / a**3 \n",
    "        return omega_m\n",
    "    \n",
    "    def Or(self, a):\n",
    "        '''Radiation energy density in units of critical density at a=1'''\n",
    "        omega_r = self.Or_0 / a**4\n",
    "        return omega_r\n",
    "    \n",
    "    def Ol(self, a):\n",
    "        '''Cosmological constant energy density in unist of critical density at a=1'''\n",
    "        omega_l = self.Ol_0 \n",
    "        return omega_l\n",
    "    \n",
    "    def Ok(self, a):\n",
    "        '''Curvature energy density in units of critical density at a=1'''\n",
    "        omega_k = self.Ok_0 / a**2\n",
    "        return omega_k\n",
    "    \n",
    "    def Omega(self, a):\n",
    "        '''Total energy density in units of critical density at a=1'''\n",
    "        omega = self.Om(a) + self.Or(a) + self.Ol(a) + self.Ok(a)\n",
    "        return omega\n",
    "    \n",
    "    def E(self, a):\n",
    "        '''Square root of energy density, enters Friedmann's equation'''\n",
    "        \n",
    "        E = self.Omega(a)**0.5\n",
    "        \n",
    "        return E\n",
    "    \n",
    "    # Ages\n",
    "    def age(self, a):\n",
    "        '''Age of the universe, in Gyr by integrating the Friedman's equation'''\n",
    "        \n",
    "        # implement the integral for chi\n",
    "        def integrand(x):\n",
    "            '''Computes the integrand, for chi given scale factor x'''\n",
    "            \n",
    "            integ = 1 / x / self.E(x)\n",
    "            \n",
    "            return integ\n",
    "        \n",
    "        # perform the integral\n",
    "        \n",
    "        chi = quad(integrand, 0, a)[0]\n",
    "        \n",
    "        # scale with Hubble time, bringing back units in Gyr\n",
    "        \n",
    "        age = self.t_H * chi\n",
    "        \n",
    "        return age\n",
    "    \n",
    "    def look_back_time(self, a):\n",
    "        '''Returns lookback time to an object at scale factor a'''\n",
    "        \n",
    "        # START YOUR CODE HERE (2 lines of code)>>>>>>>>>>>>>>>>>>\n",
    "        t_0 = self.age(1)\n",
    "        t_e = self.age(a)\n",
    "        # >>>>>>>>>>>>>>>>>>>>>>>>>>>>>>>>>>>> END YOUR CODE HERE\n",
    "        \n",
    "        return t_0 - t_e\n",
    "    \n",
    "    # Distances\n",
    "    # Implements formulae from Hogg 2001: https://arxiv.org/pdf/astro-ph/9905116.pdf\n",
    "    def comoving_radial_distance(self, a):\n",
    "        '''Returns comoving radial distance to object at scale factor a in Mpc'''\n",
    "        \n",
    "        # START YOUR CODE HERE (2 lines of code)>>>>>>>>>>>>>>>>>>\n",
    "        D_C = self.D_H * quad(lambda x: 1 / x**2 / self.E(x), a, 1)[0]\n",
    "        # >>>>>>>>>>>>>>>>>>>>>>>>>>>>>>>>>>>> END YOUR CODE HERE\n",
    "        \n",
    "        return D_C"
   ]
  },
  {
   "cell_type": "code",
   "execution_count": 9,
   "metadata": {
    "ExecuteTime": {
     "end_time": "2021-02-28T17:37:07.952798Z",
     "start_time": "2021-02-28T17:37:07.948601Z"
    }
   },
   "outputs": [
    {
     "name": "stdout",
     "output_type": "stream",
     "text": [
      "3212.0557835017053\n"
     ]
    }
   ],
   "source": [
    "# Test the implementation of the comoving_radial_distance\n",
    "cosmo = FLRWcosmo(Om_0=0.3, Or_0=0, Ol_0=0.7)\n",
    "print(cosmo.comoving_radial_distance(0.5))"
   ]
  },
  {
   "cell_type": "markdown",
   "metadata": {},
   "source": [
    "**Expected Output**: \n",
    "<table style = \"width:40%\">\n",
    "    <tr>\n",
    "    <td>** print(cosmo.comoving_radial_distance(0.5)) **</td> \n",
    "        <td> 3212.0557835017053 </td> \n",
    "    </tr>\n",
    "\n",
    "</table>"
   ]
  },
  {
   "cell_type": "markdown",
   "metadata": {},
   "source": [
    "We will add to the implementation the comoving trasverse distance:\n",
    "$$\\Omega_k > 0 \\rightarrow D_M = D_C \\frac{1}{\\sqrt{\\Omega_k}}\\sinh\\left(\\sqrt{\\Omega_k}\\frac{D_C}{D_H}\\right)$$\n",
    "$$\\Omega_k 0 0 \\rightarrow D_M = D_C $$\n",
    "$$\\Omega_k < 0 \\rightarrow D_M = D_C \\frac{1}{\\sqrt{-\\Omega_k}}\\sin\\left(\\sqrt{-\\Omega_k}\\frac{D_C}{D_H}\\right)$$\n",
    "\n",
    "You don't need to do anything, I have implemented it for you:\n"
   ]
  },
  {
   "cell_type": "code",
   "execution_count": 10,
   "metadata": {
    "ExecuteTime": {
     "end_time": "2021-02-28T17:37:10.039255Z",
     "start_time": "2021-02-28T17:37:10.021872Z"
    }
   },
   "outputs": [],
   "source": [
    "import astropy.units as u           # we will use this library to handle units\n",
    "from astropy.constants import c     # speeed of light\n",
    "from scipy.integrate import quad    # only needed if we use quad function for integral\n",
    "import numpy as np\n",
    "\n",
    "class FLRWcosmo:\n",
    "    '''Class for cosmological model representing a uniform and isotropic universe described by GR'''\n",
    "    \n",
    "    def __init__(self, Om_0, Or_0, Ol_0, H_0=72*u.km/u.s/u.Mpc):\n",
    "        # Since the uncertainty on the Hubble constant is not too big, we can \n",
    "        # add a default value for it\n",
    "        # Feel free to modify the class and add default values for your favourite model\n",
    "        self.Om_0 = Om_0\n",
    "        self.Or_0 = Or_0\n",
    "        self.Ol_0 = Ol_0\n",
    "        self.Ok_0 = 1 - self.Om_0 - self.Or_0 - self.Ol_0\n",
    "        self.H_0  = H_0\n",
    "        \n",
    "        # Derived parameters that will be used to normalize distances\n",
    "#        from astropy.constants import c\n",
    "        self.t_H = (1 / self.H_0).to(u.Gyr).value     # Hubble time in Gyr\n",
    "        self.D_H = (c / self.H_0).to(u.Mpc).value   # Hubble radius in Mpc\n",
    "        \n",
    "    # Scaling of enery densities per component at scale factor a\n",
    "    def Om(self, a):\n",
    "        '''Non-relativistic matter energy density in units of critical density at a=1'''       \n",
    "        omega_m = self.Om_0 / a**3 \n",
    "        return omega_m\n",
    "    \n",
    "    def Or(self, a):\n",
    "        '''Radiation energy density in units of critical density at a=1'''\n",
    "        omega_r = self.Or_0 / a**4\n",
    "        return omega_r\n",
    "    \n",
    "    def Ol(self, a):\n",
    "        '''Cosmological constant energy density in unist of critical density at a=1'''\n",
    "        omega_l = self.Ol_0 \n",
    "        return omega_l\n",
    "    \n",
    "    def Ok(self, a):\n",
    "        '''Curvature energy density in units of critical density at a=1'''\n",
    "        omega_k = self.Ok_0 / a**2\n",
    "        return omega_k\n",
    "    \n",
    "    def Omega(self, a):\n",
    "        '''Total energy density in units of critical density at a=1'''\n",
    "        omega = self.Om(a) + self.Or(a) + self.Ol(a) + self.Ok(a)\n",
    "        return omega\n",
    "    \n",
    "    def E(self, a):\n",
    "        '''Square root of energy density, enters Friedmann's equation'''\n",
    "        \n",
    "        E = self.Omega(a)**0.5\n",
    "        \n",
    "        return E\n",
    "    \n",
    "    # Ages\n",
    "    def age(self, a):\n",
    "        '''Age of the universe, in Gyr by integrating the Friedman's equation'''\n",
    "        \n",
    "        # implement the integral for chi\n",
    "        def integrand(x):\n",
    "            '''Computes the integrand, for chi given scale factor x'''\n",
    "            \n",
    "            integ = 1 / x / self.E(x)\n",
    "            \n",
    "            return integ\n",
    "        \n",
    "        # perform the integral\n",
    "        \n",
    "        chi = quad(integrand, 0, a)[0]\n",
    "        \n",
    "        # scale with Hubble time, bringing back units in Gyr\n",
    "        \n",
    "        age = self.t_H * chi\n",
    "        \n",
    "        return age\n",
    "    \n",
    "    def look_back_time(self, a):\n",
    "        '''Returns lookback time to an object at scale factor a'''\n",
    "        \n",
    "        # START YOUR CODE HERE (2 lines of code)>>>>>>>>>>>>>>>>>>\n",
    "        t_0 = self.age(1)\n",
    "        t_e = self.age(a)\n",
    "        # >>>>>>>>>>>>>>>>>>>>>>>>>>>>>>>>>>>> END YOUR CODE HERE\n",
    "        \n",
    "        return t_0 - t_e\n",
    "    \n",
    "    # Distances\n",
    "    # Implements formulae from Hogg 2001: https://arxiv.org/pdf/astro-ph/9905116.pdf\n",
    "    def comoving_radial_distance(self, a):\n",
    "        '''Returns comoving radial distance to object at scale factor a in Mpc'''\n",
    "        \n",
    "        # START YOUR CODE HERE (1 line of code)>>>>>>>>>>>>>>>>>>\n",
    "        D_C = self.D_H * quad(lambda x: 1 / x**2 / self.E(x), a, 1)[0]\n",
    "        # >>>>>>>>>>>>>>>>>>>>>>>>>>>>>>>>>>>> END YOUR CODE HERE\n",
    "        \n",
    "        return D_C\n",
    "    \n",
    "    def comoving_transverse_distance(self, a):\n",
    "        '''Returns transverse comoving distance to objec at scale factor a in Mpc'''\n",
    "        \n",
    "        if self.Ok_0 > 0:\n",
    "            \n",
    "            D_M = self.D_H  / self.Ok_0**0.5 * np.sinh(self.Ok_0**0.5 * self.comoving_radial_distance(a) / self.D_H)\n",
    "        \n",
    "        elif self.Ok_0 == 0:\n",
    "            \n",
    "            D_M = self.comoving_radial_distance(a)\n",
    "       \n",
    "        else:\n",
    "            \n",
    "            D_M = self.D_H / (-self.Ok_0)**0.5 * np.sin((-self.Ok_0)**0.5 * self.comoving_radial_distance(a) / self.D_H)\n",
    "            \n",
    "        return D_M"
   ]
  },
  {
   "cell_type": "markdown",
   "metadata": {},
   "source": [
    "Now, let's implement the luminosity and angular diameter distances.\n",
    "\n",
    "+ For the luminosity distance, we have:\n",
    "\n",
    "$$D_L = (1+z) D_M$$\n",
    "\n",
    "Again, we will work with scale factors instead of redshifts:\n",
    "\n",
    "$$D_L = \\frac{D_M}{a}$$\n",
    "\n",
    "+ For the angular diameter distance, we are given two formulae, depending on whether we are interested in the angular diameter distance to one object, or that between two objects. The latter is quite useful for computations involving gravitational lensing, so let's implement both formulae with the same function:\n",
    "\n",
    "$$D_A = \\frac{D_M}{1+z} = a D_M$$\n",
    "\n",
    "$$D_{A12} = \\frac{1}{1+z_2}\\left[D_{M2}\\sqrt{1 + \\Omega_k\\frac{D_{M1}^2}{D_H^2}} - D_{M1}\\sqrt{1+\\Omega_k\\frac{D_{M2}^2}{D_H^2}}\\right] = a_2 \\left[D_{M2}\\sqrt{1 + \\Omega_k\\frac{D_{M1}^2}{D_H^2}} - D_{M1}\\sqrt{1+\\Omega_k\\frac{D_{M2}^2}{D_H^2}}\\right]$$\n",
    "\n",
    "+ Implement those two functions in the class:"
   ]
  },
  {
   "cell_type": "code",
   "execution_count": 11,
   "metadata": {
    "ExecuteTime": {
     "end_time": "2021-02-28T17:37:12.307023Z",
     "start_time": "2021-02-28T17:37:12.281644Z"
    }
   },
   "outputs": [],
   "source": [
    "import astropy.units as u           # we will use this library to handle units\n",
    "from astropy.constants import c     # speeed of light\n",
    "from scipy.integrate import quad    # only needed if we use quad function for integral\n",
    "import numpy as np\n",
    "\n",
    "class FLRWcosmo:\n",
    "    '''Class for cosmological model representing a uniform and isotropic universe described by GR'''\n",
    "    \n",
    "    def __init__(self, Om_0, Or_0, Ol_0, H_0=72*u.km/u.s/u.Mpc):\n",
    "        # Since the uncertainty on the Hubble constant is not too big, we can \n",
    "        # add a default value for it\n",
    "        # Feel free to modify the class and add default values for your favourite model\n",
    "        self.Om_0 = Om_0\n",
    "        self.Or_0 = Or_0\n",
    "        self.Ol_0 = Ol_0\n",
    "        self.Ok_0 = 1 - self.Om_0 - self.Or_0 - self.Ol_0\n",
    "        self.H_0  = H_0\n",
    "        \n",
    "        # Derived parameters that will be used to normalize distances\n",
    "#        from astropy.constants import c\n",
    "        self.t_H = (1 / self.H_0).to(u.Gyr).value     # Hubble time in Gyr\n",
    "        self.D_H = (c / self.H_0).to(u.Mpc).value   # Hubble radius in Mpc\n",
    "        \n",
    "    # Scaling of enery densities per component at scale factor a\n",
    "    def Om(self, a):\n",
    "        '''Non-relativistic matter energy density in units of critical density at a=1'''       \n",
    "        omega_m = self.Om_0 / a**3 \n",
    "        return omega_m\n",
    "    \n",
    "    def Or(self, a):\n",
    "        '''Radiation energy density in units of critical density at a=1'''\n",
    "        omega_r = self.Or_0 / a**4\n",
    "        return omega_r\n",
    "    \n",
    "    def Ol(self, a):\n",
    "        '''Cosmological constant energy density in unist of critical density at a=1'''\n",
    "        omega_l = self.Ol_0 \n",
    "        return omega_l\n",
    "    \n",
    "    def Ok(self, a):\n",
    "        '''Curvature energy density in units of critical density at a=1'''\n",
    "        omega_k = self.Ok_0 / a**2\n",
    "        return omega_k\n",
    "    \n",
    "    def Omega(self, a):\n",
    "        '''Total energy density in units of critical density at a=1'''\n",
    "        omega = self.Om(a) + self.Or(a) + self.Ol(a) + self.Ok(a)\n",
    "        return omega\n",
    "    \n",
    "    def E(self, a):\n",
    "        '''Square root of energy density, enters Friedmann's equation'''\n",
    "        \n",
    "        E = self.Omega(a)**0.5\n",
    "        \n",
    "        return E\n",
    "    \n",
    "    # Ages\n",
    "    def age(self, a):\n",
    "        '''Age of the universe, in Gyr by integrating the Friedman's equation'''\n",
    "        \n",
    "        # implement the integral for chi\n",
    "        def integrand(x):\n",
    "            '''Computes the integrand, for chi given scale factor x'''\n",
    "            \n",
    "            integ = 1 / x / self.E(x)\n",
    "            \n",
    "            return integ\n",
    "        \n",
    "        # perform the integral\n",
    "        \n",
    "        chi = quad(integrand, 0, a)[0]\n",
    "        \n",
    "        # scale with Hubble time, bringing back units in Gyr\n",
    "        \n",
    "        age = self.t_H * chi\n",
    "        \n",
    "        return age\n",
    "    \n",
    "    def look_back_time(self, a):\n",
    "        '''Returns lookback time to an object at scale factor a'''\n",
    "        \n",
    "        # START YOUR CODE HERE (2 lines of code)>>>>>>>>>>>>>>>>>>\n",
    "        t_0 = self.age(1)\n",
    "        t_e = self.age(a)\n",
    "        # >>>>>>>>>>>>>>>>>>>>>>>>>>>>>>>>>>>> END YOUR CODE HERE\n",
    "        \n",
    "        return t_0 - t_e\n",
    "    \n",
    "    # Distances\n",
    "    # Implements formulae from Hogg 2001: https://arxiv.org/pdf/astro-ph/9905116.pdf\n",
    "    def comoving_radial_distance(self, a):\n",
    "        '''Returns comoving radial distance to object at scale factor a in Mpc'''\n",
    "        \n",
    "        # START YOUR CODE HERE (1 line of code)>>>>>>>>>>>>>>>>>>\n",
    "        D_C = self.D_H * quad(lambda x: 1 / x**2 / self.E(x), a, 1)[0]\n",
    "        # >>>>>>>>>>>>>>>>>>>>>>>>>>>>>>>>>>>> END YOUR CODE HERE\n",
    "        \n",
    "        return D_C\n",
    "    \n",
    "    def comoving_transverse_distance(self, a):\n",
    "        '''Returns transverse comoving distance to objec at scale factor a in Mpc'''\n",
    "        \n",
    "        if self.Ok_0 > 0:\n",
    "            \n",
    "            D_M = self.D_H  / self.Ok_0**0.5 * np.sinh(self.Ok_0**0.5 * self.comoving_radial_distance(a) / self.D_H)\n",
    "        \n",
    "        elif self.Ok_0 == 0:\n",
    "            \n",
    "            D_M = self.comoving_radial_distance(a)\n",
    "       \n",
    "        else:\n",
    "            \n",
    "            D_M = self.D_H / (-self.Ok_0)**0.5 * np.sin((-self.Ok_0)**0.5 * self.comoving_radial_distance(a) / self.D_H)\n",
    "            \n",
    "        return D_M\n",
    "    \n",
    "    def luminosity_distance(self, a):\n",
    "        '''Returns luminosity distance to object at scale factor a in Mpc'''\n",
    "        \n",
    "        # START YOUR CODE HERE (1 line of code)>>>>>>>>>>>>>>>>>>\n",
    "        D_L = self.comoving_transverse_distance(a) / a\n",
    "        # >>>>>>>>>>>>>>>>>>>>>>>>>>>>>>>>>>>> END YOUR CODE HERE\n",
    "        \n",
    "        return D_L\n",
    "    \n",
    "    def angular_diameter_distance(self, a_1, a_2=None):\n",
    "        '''Returns angular diameter distance between two objects at scale factors a_1 and a_2,\n",
    "        if only one scale factor is given, returns angular diameter distance between object and observer\n",
    "        at a=1, in Mpc'''\n",
    "        \n",
    "        if a_2 is None:\n",
    "            \n",
    "            # START YOUR CODE HERE (1 line of code)>>>>>>>>>>>>>>>>>>\n",
    "            D_A = self.comoving_transverse_distance(a_1) * a_1\n",
    "            # >>>>>>>>>>>>>>>>>>>>>>>>>>>>>>>>>>>> END YOUR CODE HERE        \n",
    "            \n",
    "        else:\n",
    "            \n",
    "            # START YOUR CODE HERE (3 lines of code)>>>>>>>>>>>>>>>>>>\n",
    "            D_M1 = self.comoving_radial_distance(a_1)\n",
    "            D_M2 = self.comoving_radial_distance(a_2)\n",
    "            D_A = a_2 * (D_M2 * (1 + self.Ok_0 * (D_M1 / self.D_H)**2)**0.5 - \n",
    "                         D_M1 * (1 + self.Ok_0 * (D_M2 / self.D_H)**2)**0.5)\n",
    "            # >>>>>>>>>>>>>>>>>>>>>>>>>>>>>>>>>>>> END YOUR CODE HERE \n",
    "            \n",
    "        return D_A "
   ]
  },
  {
   "cell_type": "code",
   "execution_count": 12,
   "metadata": {
    "ExecuteTime": {
     "end_time": "2021-02-28T17:37:14.107546Z",
     "start_time": "2021-02-28T17:37:14.103329Z"
    }
   },
   "outputs": [
    {
     "name": "stdout",
     "output_type": "stream",
     "text": [
      "6424.1115670034105\n"
     ]
    }
   ],
   "source": [
    "# Test the implementation of the luminosity distance\n",
    "cosmo = FLRWcosmo(Om_0=0.3, Or_0=0, Ol_0=0.7)\n",
    "print(cosmo.luminosity_distance(0.5))"
   ]
  },
  {
   "cell_type": "markdown",
   "metadata": {},
   "source": [
    "**Expected Output**: \n",
    "<table style = \"width:40%\">\n",
    "    <tr>\n",
    "    <td>** print(cosmo.luminosity_distance(0.5)) **</td> \n",
    "        <td> 6424.1115670034105 </td> \n",
    "    </tr>\n",
    "\n",
    "</table>"
   ]
  },
  {
   "cell_type": "code",
   "execution_count": 13,
   "metadata": {
    "ExecuteTime": {
     "end_time": "2021-02-28T17:37:15.646277Z",
     "start_time": "2021-02-28T17:37:15.639984Z"
    }
   },
   "outputs": [
    {
     "name": "stdout",
     "output_type": "stream",
     "text": [
      "1606.0278917508526\n"
     ]
    }
   ],
   "source": [
    "# Test the implementation of the angular diameter distance\n",
    "cosmo = FLRWcosmo(Om_0=0.3, Or_0=0, Ol_0=0.7)\n",
    "print(cosmo.angular_diameter_distance(0.5))"
   ]
  },
  {
   "cell_type": "markdown",
   "metadata": {},
   "source": [
    "**Expected Output**: \n",
    "<table style = \"width:40%\">\n",
    "    <tr>\n",
    "    <td>** print(cosmo.angular_diameter_distance(0.5)) **</td> \n",
    "        <td> 1606.0278917508526 </td> \n",
    "    </tr>\n",
    "\n",
    "</table>"
   ]
  },
  {
   "cell_type": "code",
   "execution_count": 14,
   "metadata": {
    "ExecuteTime": {
     "end_time": "2021-02-28T17:37:17.322438Z",
     "start_time": "2021-02-28T17:37:17.298597Z"
    }
   },
   "outputs": [],
   "source": [
    "# Now we can do (and animate) a plot similar to the ones seen in class\n",
    "# First, let's define a reference cosmology\n",
    "cosmo_ref = FLRWcosmo(Om_0=0.3,  Or_0=8.4e-5, Ol_0=0.7, H_0=72 * u.km / u.s / u.Mpc)\n",
    "\n",
    "# Define the redshifts we want to look at\n",
    "z_s = np.linspace(0, 6, 100)\n",
    "\n",
    "# The scale factors are then\n",
    "a_s = 1 / (1 + z_s)\n",
    "\n",
    "# Compute luminosity and angular diameters distances for reference cosmology\n",
    "\n",
    "# START YOUR CODE HERE (2 lines of code)>>>>>>>>>>>>>>>>>>\n",
    "DL_ref = np.array([cosmo_ref.luminosity_distance(a) for a in a_s])\n",
    "DA_ref = np.array([cosmo_ref.angular_diameter_distance(a) for a in a_s])\n",
    "# >>>>>>>>>>>>>>>>>>>>>>>>>>>>>>>>>>>> END YOUR CODE HERE \n",
    "\n",
    "# Define function that generates the plot\n",
    "def f(om_0, ol_0):\n",
    "    # initialize new cosmology\n",
    "    cosmo = FLRWcosmo(Om_0=om_0, Or_0=cosmo_ref.Or_0, Ol_0=ol_0, H_0=cosmo_ref.H_0)\n",
    "    # compute luminosity distance for new cosmology\n",
    "    DL = np.array([cosmo.luminosity_distance(a) for a in a_s])\n",
    "    DA = np.array([cosmo.angular_diameter_distance(a) for a in a_s])\n",
    "    # plot both to compare\n",
    "    matplotlib.rcParams.update({'font.size':18})\n",
    "    fig = plt.figure(figsize=(20,10))\n",
    "    # Plot luminosity distance\n",
    "    ax = fig.add_subplot(1,2,1)\n",
    "    ax2 = ax.twiny()\n",
    "    ax.plot(z_s, DL_ref / cosmo_ref.D_H, 'k--', linewidth=2, label=r\"Ref cosmology\")\n",
    "    ax.plot(z_s, DL / cosmo_ref.D_H,     'b-',  linewidth=2, label=r\"New cosmology\")\n",
    "    ax.set_xlabel(r\"Redshift\"), ax.set_ylabel(r\"Luminosity distance [$D_H$]\")\n",
    "    ax2.set_xlabel(r\"Scale factor\")\n",
    "    ax.set_ylim((0,18))\n",
    "    ax2.plot(a_s, z_s, alpha=0), ax2.invert_xaxis()\n",
    "    ax.legend(loc=2)\n",
    "    ax.grid()\n",
    "    # Plot angular diameter distance\n",
    "    ax = fig.add_subplot(1,2,2)\n",
    "    ax2 = ax.twiny()\n",
    "    ax.plot(z_s, DA_ref / cosmo_ref.D_H, 'k--', linewidth=2, label=r\"Ref cosmology\")\n",
    "    ax.plot(z_s, DA / cosmo_ref.D_H,     'b-',  linewidth=2, label=r\"New cosmology\")\n",
    "    ax.set_xlabel(r\"Redshift\"), ax.set_ylabel(r\"Angular diameter distance [$D_H$]\")\n",
    "    ax2.set_xlabel(r\"Scale factor\")\n",
    "    ax.set_ylim((0,1))\n",
    "    ax2.plot(a_s, z_s, alpha=0), ax2.invert_xaxis()\n",
    "    ax.legend(loc=2)\n",
    "    ax.grid()\n",
    "    \n",
    "    \n",
    "    plt.tight_layout()\n",
    "    plt.show()"
   ]
  },
  {
   "cell_type": "code",
   "execution_count": 15,
   "metadata": {
    "ExecuteTime": {
     "end_time": "2021-02-28T17:37:19.062723Z",
     "start_time": "2021-02-28T17:37:17.795618Z"
    },
    "scrolled": true
   },
   "outputs": [
    {
     "data": {
      "application/vnd.jupyter.widget-view+json": {
       "model_id": "82c62857cf0c4d3598b4235c23a098d8",
       "version_major": 2,
       "version_minor": 0
      },
      "text/plain": [
       "interactive(children=(FloatSlider(value=0.0, description='om_0', max=1.0), FloatSlider(value=0.0, description=…"
      ]
     },
     "metadata": {},
     "output_type": "display_data"
    }
   ],
   "source": [
    "# Output interactive plot\n",
    "from ipywidgets import interactive\n",
    "\n",
    "interactive_plot = interactive(f, om_0=(0, 1, 0.1), ol_0=(0,1,0.1))\n",
    "output           = interactive_plot.children[-1]\n",
    "interactive_plot"
   ]
  },
  {
   "cell_type": "code",
   "execution_count": null,
   "metadata": {},
   "outputs": [],
   "source": []
  },
  {
   "cell_type": "code",
   "execution_count": null,
   "metadata": {},
   "outputs": [],
   "source": []
  },
  {
   "cell_type": "code",
   "execution_count": null,
   "metadata": {},
   "outputs": [],
   "source": []
  }
 ],
 "metadata": {
  "kernelspec": {
   "display_name": "Python 3",
   "language": "python",
   "name": "python3"
  },
  "language_info": {
   "codemirror_mode": {
    "name": "ipython",
    "version": 3
   },
   "file_extension": ".py",
   "mimetype": "text/x-python",
   "name": "python",
   "nbconvert_exporter": "python",
   "pygments_lexer": "ipython3",
   "version": "3.8.3"
  }
 },
 "nbformat": 4,
 "nbformat_minor": 4
}
